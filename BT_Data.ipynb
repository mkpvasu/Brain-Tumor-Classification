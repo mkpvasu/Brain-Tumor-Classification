{
  "nbformat": 4,
  "nbformat_minor": 0,
  "metadata": {
    "colab": {
      "name": "BT_Data.ipynb",
      "provenance": [],
      "collapsed_sections": [
        "TTWLZlsMHGS4"
      ],
      "machine_shape": "hm",
      "authorship_tag": "ABX9TyO+jOklZyZIwuCuQ4wgb6+X",
      "include_colab_link": true
    },
    "kernelspec": {
      "name": "python3",
      "display_name": "Python 3"
    },
    "language_info": {
      "name": "python"
    },
    "accelerator": "GPU"
  },
  "cells": [
    {
      "cell_type": "markdown",
      "metadata": {
        "id": "view-in-github",
        "colab_type": "text"
      },
      "source": [
        "<a href=\"https://colab.research.google.com/github/mkpvasu/Brain-Tumor-Classification/blob/main/BT_Data.ipynb\" target=\"_parent\"><img src=\"https://colab.research.google.com/assets/colab-badge.svg\" alt=\"Open In Colab\"/></a>"
      ]
    },
    {
      "cell_type": "markdown",
      "source": [
        "<b><center>DATASET PREPARATION</center></b>\n",
        "\n",
        "The [dataset](https://figshare.com/articles/dataset/brain_tumor_dataset/1512427) used for our brain tumor classification model is published by Jun Chen.\n",
        "\n",
        "More information about the dataset:\n",
        "<p align = 'justify'>It contains 3064 T1-weighted contrast-inhanced MRI images of patients with three kinds of brain tumor: meningioma (708 slices),  glioma (1426 slices), and pituitary tumor (930 slices).</p>\n",
        "\n",
        "---\n",
        "This data is organized in matlab data format (.mat file). Each file stores a struct containing the following fields for an image:\n",
        "\n",
        "<b>cjdata.label</b> : 1 for meningioma, 2 for glioma, 3 for pituitary tumor \n",
        "\n",
        "* <b>cjdata.PID</b> : patient ID\n",
        "* <b>cjdata.image</b> : image data\n",
        "* <b>cjdata.tumorBorder</b> : a vector storing the coordinates of discrete points on tumor border\n",
        "* <b>cjdata.tumorMask</b> : a binary image with 1s indicating tumor region\n",
        "\n",
        "<p align = 'justify'>We have also added one other category which contains MRI images of patients with no tumors to make the model predict whether the patients are having brain tumors or not to make the model cater to broader categories of classification.</p>"
      ],
      "metadata": {
        "id": "ZCSULIW-jQun"
      }
    },
    {
      "cell_type": "markdown",
      "source": [
        "###DATASET PREPARATION"
      ],
      "metadata": {
        "id": "VRhE6cHZTcaO"
      }
    },
    {
      "cell_type": "code",
      "source": [
        "import numpy as np\n",
        "import matplotlib.pyplot as plt\n",
        "import seaborn as sns\n",
        "import pandas as pd\n",
        "import cv2\n",
        "import torch\n",
        "import torch.nn as nn\n",
        "import torch.nn.functional as F\n",
        "from torch.utils.data import DataLoader, Dataset\n",
        "from torchvision import transforms, models\n",
        "from torchvision.utils import make_grid\n",
        "import os\n",
        "import pickle\n",
        "import random\n",
        "import time\n",
        "import h5py\n",
        "from sklearn.model_selection import train_test_split\n",
        "from sklearn.metrics import confusion_matrix, classification_report"
      ],
      "metadata": {
        "id": "9ULdmKXm1BrB"
      },
      "execution_count": null,
      "outputs": []
    },
    {
      "cell_type": "code",
      "source": [
        "from google.colab import drive\n",
        "drive.mount('/content/drive')"
      ],
      "metadata": {
        "colab": {
          "base_uri": "https://localhost:8080/"
        },
        "id": "tzCB8pInAUF1",
        "outputId": "b6803f72-1baa-4ad5-f5ff-290bf9a515d5"
      },
      "execution_count": null,
      "outputs": [
        {
          "output_type": "stream",
          "name": "stdout",
          "text": [
            "Mounted at /content/drive\n"
          ]
        }
      ]
    },
    {
      "cell_type": "code",
      "source": [
        "!rm rf '/content/drive/MyDrive/Colab Notebooks/dataset'"
      ],
      "metadata": {
        "colab": {
          "base_uri": "https://localhost:8080/"
        },
        "id": "oqHrVUMnKBDo",
        "outputId": "5488bf6b-553e-4f50-f2f8-77a60db6a35b"
      },
      "execution_count": null,
      "outputs": [
        {
          "output_type": "stream",
          "name": "stdout",
          "text": [
            "rm: cannot remove 'rf': No such file or directory\n",
            "rm: cannot remove '/content/drive/MyDrive/Colab Notebooks/dataset': No such file or directory\n"
          ]
        }
      ]
    },
    {
      "cell_type": "code",
      "source": [
        "import zipfile\n",
        "with zipfile.ZipFile('/content/drive/MyDrive/Colab Notebooks/braintumordata/set1.zip') as zf:\n",
        "  zip_dir = zf.namelist()[0]\n",
        "  zf.extractall('/content/drive/My Drive/Colab Notebooks/braintumordata/bd_set1')\n",
        "\n",
        "with zipfile.ZipFile('/content/drive/MyDrive/Colab Notebooks/braintumordata/set2.zip') as zf:\n",
        "  zip_dir = zf.namelist()[0]\n",
        "  zf.extractall('/content/drive/My Drive/Colab Notebooks/braintumordata/bd_set2')\n",
        "\n",
        "with zipfile.ZipFile('/content/drive/MyDrive/Colab Notebooks/braintumordata/set3.zip') as zf:\n",
        "  zip_dir = zf.namelist()[0]\n",
        "  zf.extractall('/content/drive/My Drive/Colab Notebooks/braintumordata/bd_set3')\n",
        "\n",
        "with zipfile.ZipFile('/content/drive/MyDrive/Colab Notebooks/braintumordata/set4.zip') as zf:\n",
        "  zip_dir = zf.namelist()[0]\n",
        "  zf.extractall('/content/drive/My Drive/Colab Notebooks/braintumordata/bd_set4')"
      ],
      "metadata": {
        "id": "A8MMpf2bIU8o"
      },
      "execution_count": null,
      "outputs": []
    },
    {
      "cell_type": "code",
      "source": [
        "if not os.path.exists('/content/drive/MyDrive/Colab Notebooks/braintumordata/data'):\n",
        "  os.mkdir('/content/drive/MyDrive/Colab Notebooks/braintumordata/data')"
      ],
      "metadata": {
        "id": "maioyDesLKWs"
      },
      "execution_count": null,
      "outputs": []
    },
    {
      "cell_type": "code",
      "source": [
        "!mv '/content/drive/My Drive/Colab Notebooks/braintumordata/'bd_set1/*.mat '/content/drive/MyDrive/Colab Notebooks/braintumordata/data'\n",
        "!mv '/content/drive/My Drive/Colab Notebooks/braintumordata/'bd_set2/*.mat '/content/drive/MyDrive/Colab Notebooks/braintumordata/data'\n",
        "!mv '/content/drive/My Drive/Colab Notebooks/braintumordata/'bd_set3/*.mat '/content/drive/MyDrive/Colab Notebooks/braintumordata/data'\n",
        "!mv '/content/drive/My Drive/Colab Notebooks/braintumordata/'bd_set4/*.mat '/content/drive/MyDrive/Colab Notebooks/braintumordata/data'"
      ],
      "metadata": {
        "id": "bgBhy-WcLYT5"
      },
      "execution_count": null,
      "outputs": []
    },
    {
      "cell_type": "code",
      "source": [
        "!rm -rf '/content/drive/My Drive/Colab Notebooks/braintumordata/bd_set1'\n",
        "!rm -rf '/content/drive/My Drive/Colab Notebooks/braintumordata/bd_set2'\n",
        "!rm -rf '/content/drive/My Drive/Colab Notebooks/braintumordata/bd_set3'\n",
        "!rm -rf '/content/drive/My Drive/Colab Notebooks/braintumordata/bd_set4'"
      ],
      "metadata": {
        "id": "9vJdeDfAObyw"
      },
      "execution_count": null,
      "outputs": []
    },
    {
      "cell_type": "code",
      "source": [
        "arrays = {}\n",
        "img = None\n",
        "\n",
        "with h5py.File('/content/drive/My Drive/Colab Notebooks/braintumordata/data/1.mat', 'r') as f:\n",
        "    for item in f.items():\n",
        "      print(item)\n",
        "    for key, val in f['cjdata'].items():\n",
        "      print(key, val)\n",
        "    img = f['cjdata']['image']\n",
        "    label = f['cjdata']['label'][0][0]\n",
        "    tumorBorder = f['cjdata']['tumorBorder'][0]\n",
        "    mask = f['cjdata']['tumorMask']\n",
        "    fig = plt.figure(2)\n",
        "    plt.axis('off')\n",
        "    plt.imshow(img, cmap='gray')\n",
        "    print(\"Image shape: \", img.shape)\n",
        "    print(\"Label\", label)\n",
        "    print(\"Coords: \", tumorBorder)\n",
        "    print(\"Mask shape: \", mask.shape)\n",
        "    fig = plt.figure(3)\n",
        "    plt.axis('off')\n",
        "    plt.imshow(mask, cmap='gray')"
      ],
      "metadata": {
        "id": "usUKmx4nL14g"
      },
      "execution_count": null,
      "outputs": []
    },
    {
      "cell_type": "code",
      "source": [
        "if not os.path.exists('/content/drive/MyDrive/Colab Notebooks/braintumordata/bt_data'):\n",
        "  os.mkdir('/content/drive/MyDrive/Colab Notebooks/braintumordata/bt_data')"
      ],
      "metadata": {
        "id": "7dCMO1xaNlWS"
      },
      "execution_count": null,
      "outputs": []
    },
    {
      "cell_type": "code",
      "source": [
        "labels = []\n",
        "\n",
        "for filename in range(1, 3065):\n",
        "  with h5py.File('/content/drive/My Drive/Colab Notebooks/braintumordata/data/{}.mat'.format(filename), 'r') as f:\n",
        "      img = f['cjdata']['image']\n",
        "      label = f['cjdata']['label'][0][0]\n",
        "     \n",
        "      labels.append(int(label))\n",
        "      img = np.array(img, dtype=np.float32)\n",
        "      \n",
        "      plt.axis('off')\n",
        "      plt.imsave(\"/content/drive/My Drive/Colab Notebooks/braintumordata/bt_data/{}.jpg\".format(filename), img, cmap='gray')\n",
        "      \n",
        "      \n",
        "print(\"{} files successfully saved\".format(filename))"
      ],
      "metadata": {
        "id": "F9nXaONxN-uc"
      },
      "execution_count": null,
      "outputs": []
    },
    {
      "cell_type": "code",
      "source": [
        "labels = np.array(labels, dtype = np.int64)\n",
        "labels.shape"
      ],
      "metadata": {
        "colab": {
          "base_uri": "https://localhost:8080/"
        },
        "id": "vMZ_-6IXPaa5",
        "outputId": "18b67b2a-4cc0-4dcd-8e90-42614b53aa7d"
      },
      "execution_count": null,
      "outputs": [
        {
          "output_type": "execute_result",
          "data": {
            "text/plain": [
              "(3064,)"
            ]
          },
          "metadata": {},
          "execution_count": 19
        }
      ]
    },
    {
      "cell_type": "code",
      "source": [
        "p_out = open('/content/drive/My Drive/Colab Notebooks/braintumordata/bt_data/labels.pickle','wb')\n",
        "pickle.dump(labels, p_out)\n",
        "p_out.close()"
      ],
      "metadata": {
        "id": "eUsywPKwPoC4"
      },
      "execution_count": null,
      "outputs": []
    },
    {
      "cell_type": "code",
      "source": [
        "train_data = []\n",
        "\n",
        "for i in range(1,3065):\n",
        "  img = cv2.imread(\"/content/drive/My Drive/Colab Notebooks/braintumordata/bt_data/{}.jpg\".format(i), cv2.IMREAD_GRAYSCALE)\n",
        "  img = cv2.cvtColor(img, cv2.COLOR_GRAY2RGB)\n",
        "  img = cv2.resize(img, (512,512))\n",
        "  label = labels[i-1]\n",
        "  train_data.append([img,label])\n",
        "\n",
        "pickle_out = open(\"/content/drive/My Drive/Colab Notebooks/braintumordata/train_data.pickle\",\"wb\")                    \n",
        "pickle.dump(train_data, pickle_out)\n",
        "pickle_out.close()"
      ],
      "metadata": {
        "id": "Fup7ZxRfQbdt"
      },
      "execution_count": null,
      "outputs": []
    }
  ]
}