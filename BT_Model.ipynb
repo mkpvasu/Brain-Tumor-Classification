{
  "nbformat": 4,
  "nbformat_minor": 0,
  "metadata": {
    "colab": {
      "name": "BT_Model.ipynb",
      "provenance": [],
      "collapsed_sections": [],
      "authorship_tag": "ABX9TyOs+feiGbp/6GjGojXPo5lw",
      "include_colab_link": true
    },
    "kernelspec": {
      "name": "python3",
      "display_name": "Python 3"
    },
    "language_info": {
      "name": "python"
    },
    "accelerator": "GPU"
  },
  "cells": [
    {
      "cell_type": "markdown",
      "metadata": {
        "id": "view-in-github",
        "colab_type": "text"
      },
      "source": [
        "<a href=\"https://colab.research.google.com/github/mkpvasu/Brain-Tumor-Classification/blob/main/BT_Model.ipynb\" target=\"_parent\"><img src=\"https://colab.research.google.com/assets/colab-badge.svg\" alt=\"Open In Colab\"/></a>"
      ]
    },
    {
      "cell_type": "code",
      "source": [
        "import torch\n",
        "import torch.nn as nn\n",
        "import torch.nn.functional as F\n",
        "from torch.utils.data import DataLoader, Dataset\n",
        "from torchvision import transforms, models\n",
        "from torchvision.utils import make_grid\n",
        "import os\n",
        "import random\n",
        "import numpy as np\n",
        "import pandas as pd\n",
        "import pickle\n",
        "import time\n",
        "import matplotlib.pyplot as plt\n",
        "import seaborn as sns\n",
        "from sklearn.model_selection import train_test_split\n",
        "from sklearn.metrics import confusion_matrix, classification_report"
      ],
      "metadata": {
        "id": "Y72Axe6Wtuz7"
      },
      "execution_count": 1,
      "outputs": []
    },
    {
      "cell_type": "code",
      "source": [
        "from google.colab import drive\n",
        "drive.mount('/content/Drive')"
      ],
      "metadata": {
        "colab": {
          "base_uri": "https://localhost:8080/"
        },
        "id": "E300q8N9tvkT",
        "outputId": "e4f80d41-3ab8-433c-8d7c-56a1f309a418"
      },
      "execution_count": 2,
      "outputs": [
        {
          "output_type": "stream",
          "name": "stdout",
          "text": [
            "Drive already mounted at /content/Drive; to attempt to forcibly remount, call drive.mount(\"/content/Drive\", force_remount=True).\n"
          ]
        }
      ]
    },
    {
      "cell_type": "code",
      "source": [
        "#Emptying the device's cache\n",
        "torch.cuda.empty_cache()"
      ],
      "metadata": {
        "id": "BcpxiEPnuZP4"
      },
      "execution_count": 3,
      "outputs": []
    },
    {
      "cell_type": "code",
      "source": [
        "# Preparing an augmented dataset for more robust model\n",
        "\n",
        "class BrainTumorDataset(Dataset):\n",
        "  def __init__(self, images, labels):\n",
        "    # Images\n",
        "    self.X = images\n",
        "    # Corresponding Labels\n",
        "    self.y = labels\n",
        "    \n",
        "    # Convert original image numpy array to PIL image and then to a tensor\n",
        "    self.transform = transforms.Compose([transforms.ToPILImage(),\n",
        "        transforms.Resize((128,128)),\n",
        "        transforms.ToTensor()\n",
        "    ])\n",
        "\n",
        "    # Augmenting original image numpy array by resizing it to (64,64) pixels, then rotating it to randomly between [-k,k] degrees and \n",
        "    # then convert it to tensor\n",
        "    self.transform30 = transforms.Compose([\n",
        "        transforms.ToPILImage(),\n",
        "        transforms.Resize((128,128)),                                         \n",
        "        transforms.RandomRotation(30),\n",
        "        transforms.ToTensor()                                 \n",
        "    ])\n",
        "\n",
        "    self.transform90 = transforms.Compose([\n",
        "        transforms.ToPILImage(),\n",
        "        transforms.Resize((128,128)),\n",
        "        transforms.RandomRotation(90),\n",
        "        transforms.ToTensor()                                  \n",
        "    ])\n",
        "\n",
        "    self.transform135 = transforms.Compose([\n",
        "        transforms.ToPILImage(),\n",
        "        transforms.Resize((128,128)),\n",
        "        transforms.RandomRotation(135),\n",
        "        transforms.ToTensor()                                  \n",
        "    ])\n",
        "\n",
        "    self.transform180 = transforms.Compose([\n",
        "        transforms.ToPILImage(),\n",
        "        transforms.Resize((128,128)),\n",
        "        transforms.RandomRotation(180),\n",
        "        transforms.ToTensor()                                \n",
        "    ])\n",
        "\n",
        "    self.transform270 = transforms.Compose([\n",
        "        transforms.ToPILImage(),\n",
        "        transforms.Resize((128,128)),\n",
        "        transforms.RandomRotation(270),\n",
        "        transforms.ToTensor()                                \n",
        "    ])\n",
        "\n",
        "    # self.transform315 = transforms.Compose([\n",
        "    #     transforms.ToPILImage(),\n",
        "    #     transforms.Resize((64,64)),\n",
        "    #     transforms.RandomRotation(315),\n",
        "    #     transforms.ToTensor()                                \n",
        "    # ])\n",
        "    \n",
        "    # self.transform345 = transforms.Compose([\n",
        "    #     transforms.ToPILImage(),\n",
        "    #     transforms.Resize((64,64)),\n",
        "    #     transforms.RandomRotation(345),\n",
        "    #     transforms.ToTensor()                                \n",
        "    # ])\n",
        "\n",
        "  def __len__(self):\n",
        "    # Returns # of images\n",
        "    return len(self.X)\n",
        "\n",
        "  def __getitem__(self, idx):\n",
        "    # Transformations for one image of X at a time\n",
        "    # Original image as a tensor\n",
        "    img = self.transform(self.X[idx])\n",
        "\n",
        "    # Transformations are called to augment images and save it to traing the model\n",
        "    img30 = self.transform30(self.X[idx])\n",
        "    img90 = self.transform90(self.X[idx])\n",
        "    img135 = self.transform135(self.X[idx])\n",
        "    img180 = self.transform180(self.X[idx])\n",
        "    img270 = self.transform270(self.X[idx])\n",
        "    # img315 = self.transform270(self.X[idx])  \n",
        "    # img345 = self.transform270(self.X[idx])    \n",
        "    \n",
        "    # store the transformed images in a list\n",
        "    batch = [img, img30, img90, img135, img180, img270]\n",
        "\n",
        "    # One Hot Encoding is used here to give the respective column of the image label 1.0 and other columns as 0.0\n",
        "    labels = torch.zeros(4, dtype=torch.float32)\n",
        "    labels[int(self.y[idx])] = 1.0\n",
        "\n",
        "    b_labels = [labels, labels, labels, labels, labels, labels]\n",
        "\n",
        "    # 8 augmented images and corresponding labels per sample will be returned\n",
        "    return (torch.stack(b_labels), torch.stack(batch))"
      ],
      "metadata": {
        "id": "iHwCBsE0udk2"
      },
      "execution_count": 4,
      "outputs": []
    },
    {
      "cell_type": "code",
      "source": [
        "train_data = pickle.load(open('/content/Drive/My Drive/Colab Notebooks/braintumordata/train_data.pickle', 'rb'))"
      ],
      "metadata": {
        "id": "Bl57l8bZutAe"
      },
      "execution_count": 5,
      "outputs": []
    },
    {
      "cell_type": "code",
      "source": [
        "Xt, yt, label= [], [], []\n",
        "features, labels = None, None"
      ],
      "metadata": {
        "id": "_QNWqgUfu9cg"
      },
      "execution_count": 6,
      "outputs": []
    },
    {
      "cell_type": "code",
      "source": [
        "for features,labels in train_data:\n",
        "  Xt.append(features)\n",
        "  yt.append(labels)"
      ],
      "metadata": {
        "id": "Z00zv1kXvWnn"
      },
      "execution_count": 7,
      "outputs": []
    },
    {
      "cell_type": "code",
      "source": [
        "# The train_data has been divided into training, validation and testing data\n",
        "# 75% - training data\n",
        "# 15% - validation data\n",
        "# 10% - testing data\n",
        "\n",
        "X_train, X_test, y_train, y_test = train_test_split(Xt, yt, test_size=0.25, shuffle=True)\n",
        "X_val, X_test, y_val, y_test = train_test_split(X_test, y_test, test_size=0.6, shuffle=True)"
      ],
      "metadata": {
        "id": "hFzFwrDjvYiT"
      },
      "execution_count": 8,
      "outputs": []
    },
    {
      "cell_type": "code",
      "source": [
        "print(f\"Number of training samples: {len(X_train)}\")\n",
        "print(f\"Number of validation samples: {len(X_val)}\")\n",
        "print(f\"Number of testing samples: {len(X_test)}\")"
      ],
      "metadata": {
        "colab": {
          "base_uri": "https://localhost:8080/"
        },
        "id": "2sV0LxD6fbgW",
        "outputId": "f62d4244-2e24-464b-865b-ca9b395d4fcd"
      },
      "execution_count": 9,
      "outputs": [
        {
          "output_type": "stream",
          "name": "stdout",
          "text": [
            "Number of training samples: 2298\n",
            "Number of validation samples: 306\n",
            "Number of testing samples: 460\n"
          ]
        }
      ]
    },
    {
      "cell_type": "code",
      "source": [
        "print(f\"Number of augmented training samples: \",(len(X_train) * 6))\n",
        "print(f\"Number of augmented validation samples: \", (len(X_val)* 6))\n",
        "print(f\"Number of augmented testing samples: \", (len(X_test)* 6))"
      ],
      "metadata": {
        "colab": {
          "base_uri": "https://localhost:8080/"
        },
        "id": "LtarMlQGfRdN",
        "outputId": "95d0a966-abf1-4e5e-f845-d30af43af637"
      },
      "execution_count": 10,
      "outputs": [
        {
          "output_type": "stream",
          "name": "stdout",
          "text": [
            "Number of augmented training samples:  13788\n",
            "Number of augmented validation samples:  1836\n",
            "Number of augmented testing samples:  2760\n"
          ]
        }
      ]
    },
    {
      "cell_type": "code",
      "source": [
        "# Clearing memory\n",
        "Xt, yt, labels, label, features, train_data = None, None, None, None, None, None"
      ],
      "metadata": {
        "id": "QP8-QsxAwNsQ"
      },
      "execution_count": 11,
      "outputs": []
    },
    {
      "cell_type": "code",
      "source": [
        "# To augmented dataset and save it to corresponding variables\n",
        "\n",
        "train_set = BrainTumorDataset(X_train, y_train)\n",
        "val_set = BrainTumorDataset(X_val, y_val)\n",
        "test_set = BrainTumorDataset(X_test, y_test)"
      ],
      "metadata": {
        "id": "8DOTlN3wvcET"
      },
      "execution_count": 12,
      "outputs": []
    },
    {
      "cell_type": "code",
      "source": [
        "# These dataloaders load the dataset to minimize the time device has to wait to retrieve data\n",
        "\n",
        "train_loader = DataLoader(train_set, batch_size=4, shuffle=True, pin_memory=True, num_workers=8)\n",
        "val_loader = DataLoader(val_set, batch_size=4, shuffle=True, pin_memory=True, num_workers=8)\n",
        "test_loader = DataLoader(test_set, batch_size=10, shuffle=True, pin_memory=True, num_workers=8)"
      ],
      "metadata": {
        "id": "G5WjfDJQvmRT",
        "colab": {
          "base_uri": "https://localhost:8080/"
        },
        "outputId": "01331a40-a9bc-4b95-fe0f-7916d3542f1f"
      },
      "execution_count": 13,
      "outputs": [
        {
          "output_type": "stream",
          "name": "stderr",
          "text": [
            "/usr/local/lib/python3.7/dist-packages/torch/utils/data/dataloader.py:490: UserWarning: This DataLoader will create 8 worker processes in total. Our suggested max number of worker in current system is 2, which is smaller than what this DataLoader is going to create. Please be aware that excessive worker creation might get DataLoader running slow or even freeze, lower the worker number to avoid potential slowness/freeze if necessary.\n",
            "  cpuset_checked))\n"
          ]
        }
      ]
    },
    {
      "cell_type": "code",
      "source": [
        "# Giving the variable device to device name of the GPU connected\n",
        "device_name = \"cuda:0\" if torch.cuda.is_available() else \"cpu\"\n",
        "device = torch.device(device_name)"
      ],
      "metadata": {
        "id": "sZE85sNIvptb"
      },
      "execution_count": 14,
      "outputs": []
    },
    {
      "cell_type": "code",
      "source": [
        "# Using Resnet50 (50 layers) pretrained model (this model will be pretrined using ImageNet dataset) as our model\n",
        "resnet_50 = models.resnet50(pretrained=True)\n",
        "\n",
        "# Training all parameters\n",
        "for param in resnet_50.parameters():\n",
        "    param.requires_grad = True\n",
        "\n",
        "# Input for fully connected layer\n",
        "n_inputs = resnet_50.fc.in_features\n",
        "\n",
        "# Creating a new final fully connected layer to make this model perform classification for our dataset (Original pretrined model can classify the \n",
        "# classes it was trained on)\n",
        "resnet_50.fc = nn.Sequential(nn.Linear(n_inputs, 2048),\n",
        "                                nn.SELU(),\n",
        "                                nn.Dropout(p=0.4),\n",
        "                                nn.Linear(2048, 2048),\n",
        "                                nn.SELU(),\n",
        "                                nn.Dropout(p=0.4),\n",
        "                                nn.Linear(2048, 4),\n",
        "                                nn.LogSigmoid())\n",
        "\n",
        "# Training all parameters\n",
        "for name, child in resnet_50.named_children():\n",
        "  for name2, params in child.named_parameters():\n",
        "    params.requires_grad = True\n",
        "\n",
        "# Model will run on GPU if available else CPU\n",
        "resnet_50.to(device)"
      ],
      "metadata": {
        "id": "eSRzFC3uvsIf",
        "colab": {
          "base_uri": "https://localhost:8080/"
        },
        "outputId": "2f7ba4b7-80d0-4144-a433-b38eeb28b243"
      },
      "execution_count": 15,
      "outputs": [
        {
          "output_type": "execute_result",
          "data": {
            "text/plain": [
              "ResNet(\n",
              "  (conv1): Conv2d(3, 64, kernel_size=(7, 7), stride=(2, 2), padding=(3, 3), bias=False)\n",
              "  (bn1): BatchNorm2d(64, eps=1e-05, momentum=0.1, affine=True, track_running_stats=True)\n",
              "  (relu): ReLU(inplace=True)\n",
              "  (maxpool): MaxPool2d(kernel_size=3, stride=2, padding=1, dilation=1, ceil_mode=False)\n",
              "  (layer1): Sequential(\n",
              "    (0): Bottleneck(\n",
              "      (conv1): Conv2d(64, 64, kernel_size=(1, 1), stride=(1, 1), bias=False)\n",
              "      (bn1): BatchNorm2d(64, eps=1e-05, momentum=0.1, affine=True, track_running_stats=True)\n",
              "      (conv2): Conv2d(64, 64, kernel_size=(3, 3), stride=(1, 1), padding=(1, 1), bias=False)\n",
              "      (bn2): BatchNorm2d(64, eps=1e-05, momentum=0.1, affine=True, track_running_stats=True)\n",
              "      (conv3): Conv2d(64, 256, kernel_size=(1, 1), stride=(1, 1), bias=False)\n",
              "      (bn3): BatchNorm2d(256, eps=1e-05, momentum=0.1, affine=True, track_running_stats=True)\n",
              "      (relu): ReLU(inplace=True)\n",
              "      (downsample): Sequential(\n",
              "        (0): Conv2d(64, 256, kernel_size=(1, 1), stride=(1, 1), bias=False)\n",
              "        (1): BatchNorm2d(256, eps=1e-05, momentum=0.1, affine=True, track_running_stats=True)\n",
              "      )\n",
              "    )\n",
              "    (1): Bottleneck(\n",
              "      (conv1): Conv2d(256, 64, kernel_size=(1, 1), stride=(1, 1), bias=False)\n",
              "      (bn1): BatchNorm2d(64, eps=1e-05, momentum=0.1, affine=True, track_running_stats=True)\n",
              "      (conv2): Conv2d(64, 64, kernel_size=(3, 3), stride=(1, 1), padding=(1, 1), bias=False)\n",
              "      (bn2): BatchNorm2d(64, eps=1e-05, momentum=0.1, affine=True, track_running_stats=True)\n",
              "      (conv3): Conv2d(64, 256, kernel_size=(1, 1), stride=(1, 1), bias=False)\n",
              "      (bn3): BatchNorm2d(256, eps=1e-05, momentum=0.1, affine=True, track_running_stats=True)\n",
              "      (relu): ReLU(inplace=True)\n",
              "    )\n",
              "    (2): Bottleneck(\n",
              "      (conv1): Conv2d(256, 64, kernel_size=(1, 1), stride=(1, 1), bias=False)\n",
              "      (bn1): BatchNorm2d(64, eps=1e-05, momentum=0.1, affine=True, track_running_stats=True)\n",
              "      (conv2): Conv2d(64, 64, kernel_size=(3, 3), stride=(1, 1), padding=(1, 1), bias=False)\n",
              "      (bn2): BatchNorm2d(64, eps=1e-05, momentum=0.1, affine=True, track_running_stats=True)\n",
              "      (conv3): Conv2d(64, 256, kernel_size=(1, 1), stride=(1, 1), bias=False)\n",
              "      (bn3): BatchNorm2d(256, eps=1e-05, momentum=0.1, affine=True, track_running_stats=True)\n",
              "      (relu): ReLU(inplace=True)\n",
              "    )\n",
              "  )\n",
              "  (layer2): Sequential(\n",
              "    (0): Bottleneck(\n",
              "      (conv1): Conv2d(256, 128, kernel_size=(1, 1), stride=(1, 1), bias=False)\n",
              "      (bn1): BatchNorm2d(128, eps=1e-05, momentum=0.1, affine=True, track_running_stats=True)\n",
              "      (conv2): Conv2d(128, 128, kernel_size=(3, 3), stride=(2, 2), padding=(1, 1), bias=False)\n",
              "      (bn2): BatchNorm2d(128, eps=1e-05, momentum=0.1, affine=True, track_running_stats=True)\n",
              "      (conv3): Conv2d(128, 512, kernel_size=(1, 1), stride=(1, 1), bias=False)\n",
              "      (bn3): BatchNorm2d(512, eps=1e-05, momentum=0.1, affine=True, track_running_stats=True)\n",
              "      (relu): ReLU(inplace=True)\n",
              "      (downsample): Sequential(\n",
              "        (0): Conv2d(256, 512, kernel_size=(1, 1), stride=(2, 2), bias=False)\n",
              "        (1): BatchNorm2d(512, eps=1e-05, momentum=0.1, affine=True, track_running_stats=True)\n",
              "      )\n",
              "    )\n",
              "    (1): Bottleneck(\n",
              "      (conv1): Conv2d(512, 128, kernel_size=(1, 1), stride=(1, 1), bias=False)\n",
              "      (bn1): BatchNorm2d(128, eps=1e-05, momentum=0.1, affine=True, track_running_stats=True)\n",
              "      (conv2): Conv2d(128, 128, kernel_size=(3, 3), stride=(1, 1), padding=(1, 1), bias=False)\n",
              "      (bn2): BatchNorm2d(128, eps=1e-05, momentum=0.1, affine=True, track_running_stats=True)\n",
              "      (conv3): Conv2d(128, 512, kernel_size=(1, 1), stride=(1, 1), bias=False)\n",
              "      (bn3): BatchNorm2d(512, eps=1e-05, momentum=0.1, affine=True, track_running_stats=True)\n",
              "      (relu): ReLU(inplace=True)\n",
              "    )\n",
              "    (2): Bottleneck(\n",
              "      (conv1): Conv2d(512, 128, kernel_size=(1, 1), stride=(1, 1), bias=False)\n",
              "      (bn1): BatchNorm2d(128, eps=1e-05, momentum=0.1, affine=True, track_running_stats=True)\n",
              "      (conv2): Conv2d(128, 128, kernel_size=(3, 3), stride=(1, 1), padding=(1, 1), bias=False)\n",
              "      (bn2): BatchNorm2d(128, eps=1e-05, momentum=0.1, affine=True, track_running_stats=True)\n",
              "      (conv3): Conv2d(128, 512, kernel_size=(1, 1), stride=(1, 1), bias=False)\n",
              "      (bn3): BatchNorm2d(512, eps=1e-05, momentum=0.1, affine=True, track_running_stats=True)\n",
              "      (relu): ReLU(inplace=True)\n",
              "    )\n",
              "    (3): Bottleneck(\n",
              "      (conv1): Conv2d(512, 128, kernel_size=(1, 1), stride=(1, 1), bias=False)\n",
              "      (bn1): BatchNorm2d(128, eps=1e-05, momentum=0.1, affine=True, track_running_stats=True)\n",
              "      (conv2): Conv2d(128, 128, kernel_size=(3, 3), stride=(1, 1), padding=(1, 1), bias=False)\n",
              "      (bn2): BatchNorm2d(128, eps=1e-05, momentum=0.1, affine=True, track_running_stats=True)\n",
              "      (conv3): Conv2d(128, 512, kernel_size=(1, 1), stride=(1, 1), bias=False)\n",
              "      (bn3): BatchNorm2d(512, eps=1e-05, momentum=0.1, affine=True, track_running_stats=True)\n",
              "      (relu): ReLU(inplace=True)\n",
              "    )\n",
              "  )\n",
              "  (layer3): Sequential(\n",
              "    (0): Bottleneck(\n",
              "      (conv1): Conv2d(512, 256, kernel_size=(1, 1), stride=(1, 1), bias=False)\n",
              "      (bn1): BatchNorm2d(256, eps=1e-05, momentum=0.1, affine=True, track_running_stats=True)\n",
              "      (conv2): Conv2d(256, 256, kernel_size=(3, 3), stride=(2, 2), padding=(1, 1), bias=False)\n",
              "      (bn2): BatchNorm2d(256, eps=1e-05, momentum=0.1, affine=True, track_running_stats=True)\n",
              "      (conv3): Conv2d(256, 1024, kernel_size=(1, 1), stride=(1, 1), bias=False)\n",
              "      (bn3): BatchNorm2d(1024, eps=1e-05, momentum=0.1, affine=True, track_running_stats=True)\n",
              "      (relu): ReLU(inplace=True)\n",
              "      (downsample): Sequential(\n",
              "        (0): Conv2d(512, 1024, kernel_size=(1, 1), stride=(2, 2), bias=False)\n",
              "        (1): BatchNorm2d(1024, eps=1e-05, momentum=0.1, affine=True, track_running_stats=True)\n",
              "      )\n",
              "    )\n",
              "    (1): Bottleneck(\n",
              "      (conv1): Conv2d(1024, 256, kernel_size=(1, 1), stride=(1, 1), bias=False)\n",
              "      (bn1): BatchNorm2d(256, eps=1e-05, momentum=0.1, affine=True, track_running_stats=True)\n",
              "      (conv2): Conv2d(256, 256, kernel_size=(3, 3), stride=(1, 1), padding=(1, 1), bias=False)\n",
              "      (bn2): BatchNorm2d(256, eps=1e-05, momentum=0.1, affine=True, track_running_stats=True)\n",
              "      (conv3): Conv2d(256, 1024, kernel_size=(1, 1), stride=(1, 1), bias=False)\n",
              "      (bn3): BatchNorm2d(1024, eps=1e-05, momentum=0.1, affine=True, track_running_stats=True)\n",
              "      (relu): ReLU(inplace=True)\n",
              "    )\n",
              "    (2): Bottleneck(\n",
              "      (conv1): Conv2d(1024, 256, kernel_size=(1, 1), stride=(1, 1), bias=False)\n",
              "      (bn1): BatchNorm2d(256, eps=1e-05, momentum=0.1, affine=True, track_running_stats=True)\n",
              "      (conv2): Conv2d(256, 256, kernel_size=(3, 3), stride=(1, 1), padding=(1, 1), bias=False)\n",
              "      (bn2): BatchNorm2d(256, eps=1e-05, momentum=0.1, affine=True, track_running_stats=True)\n",
              "      (conv3): Conv2d(256, 1024, kernel_size=(1, 1), stride=(1, 1), bias=False)\n",
              "      (bn3): BatchNorm2d(1024, eps=1e-05, momentum=0.1, affine=True, track_running_stats=True)\n",
              "      (relu): ReLU(inplace=True)\n",
              "    )\n",
              "    (3): Bottleneck(\n",
              "      (conv1): Conv2d(1024, 256, kernel_size=(1, 1), stride=(1, 1), bias=False)\n",
              "      (bn1): BatchNorm2d(256, eps=1e-05, momentum=0.1, affine=True, track_running_stats=True)\n",
              "      (conv2): Conv2d(256, 256, kernel_size=(3, 3), stride=(1, 1), padding=(1, 1), bias=False)\n",
              "      (bn2): BatchNorm2d(256, eps=1e-05, momentum=0.1, affine=True, track_running_stats=True)\n",
              "      (conv3): Conv2d(256, 1024, kernel_size=(1, 1), stride=(1, 1), bias=False)\n",
              "      (bn3): BatchNorm2d(1024, eps=1e-05, momentum=0.1, affine=True, track_running_stats=True)\n",
              "      (relu): ReLU(inplace=True)\n",
              "    )\n",
              "    (4): Bottleneck(\n",
              "      (conv1): Conv2d(1024, 256, kernel_size=(1, 1), stride=(1, 1), bias=False)\n",
              "      (bn1): BatchNorm2d(256, eps=1e-05, momentum=0.1, affine=True, track_running_stats=True)\n",
              "      (conv2): Conv2d(256, 256, kernel_size=(3, 3), stride=(1, 1), padding=(1, 1), bias=False)\n",
              "      (bn2): BatchNorm2d(256, eps=1e-05, momentum=0.1, affine=True, track_running_stats=True)\n",
              "      (conv3): Conv2d(256, 1024, kernel_size=(1, 1), stride=(1, 1), bias=False)\n",
              "      (bn3): BatchNorm2d(1024, eps=1e-05, momentum=0.1, affine=True, track_running_stats=True)\n",
              "      (relu): ReLU(inplace=True)\n",
              "    )\n",
              "    (5): Bottleneck(\n",
              "      (conv1): Conv2d(1024, 256, kernel_size=(1, 1), stride=(1, 1), bias=False)\n",
              "      (bn1): BatchNorm2d(256, eps=1e-05, momentum=0.1, affine=True, track_running_stats=True)\n",
              "      (conv2): Conv2d(256, 256, kernel_size=(3, 3), stride=(1, 1), padding=(1, 1), bias=False)\n",
              "      (bn2): BatchNorm2d(256, eps=1e-05, momentum=0.1, affine=True, track_running_stats=True)\n",
              "      (conv3): Conv2d(256, 1024, kernel_size=(1, 1), stride=(1, 1), bias=False)\n",
              "      (bn3): BatchNorm2d(1024, eps=1e-05, momentum=0.1, affine=True, track_running_stats=True)\n",
              "      (relu): ReLU(inplace=True)\n",
              "    )\n",
              "  )\n",
              "  (layer4): Sequential(\n",
              "    (0): Bottleneck(\n",
              "      (conv1): Conv2d(1024, 512, kernel_size=(1, 1), stride=(1, 1), bias=False)\n",
              "      (bn1): BatchNorm2d(512, eps=1e-05, momentum=0.1, affine=True, track_running_stats=True)\n",
              "      (conv2): Conv2d(512, 512, kernel_size=(3, 3), stride=(2, 2), padding=(1, 1), bias=False)\n",
              "      (bn2): BatchNorm2d(512, eps=1e-05, momentum=0.1, affine=True, track_running_stats=True)\n",
              "      (conv3): Conv2d(512, 2048, kernel_size=(1, 1), stride=(1, 1), bias=False)\n",
              "      (bn3): BatchNorm2d(2048, eps=1e-05, momentum=0.1, affine=True, track_running_stats=True)\n",
              "      (relu): ReLU(inplace=True)\n",
              "      (downsample): Sequential(\n",
              "        (0): Conv2d(1024, 2048, kernel_size=(1, 1), stride=(2, 2), bias=False)\n",
              "        (1): BatchNorm2d(2048, eps=1e-05, momentum=0.1, affine=True, track_running_stats=True)\n",
              "      )\n",
              "    )\n",
              "    (1): Bottleneck(\n",
              "      (conv1): Conv2d(2048, 512, kernel_size=(1, 1), stride=(1, 1), bias=False)\n",
              "      (bn1): BatchNorm2d(512, eps=1e-05, momentum=0.1, affine=True, track_running_stats=True)\n",
              "      (conv2): Conv2d(512, 512, kernel_size=(3, 3), stride=(1, 1), padding=(1, 1), bias=False)\n",
              "      (bn2): BatchNorm2d(512, eps=1e-05, momentum=0.1, affine=True, track_running_stats=True)\n",
              "      (conv3): Conv2d(512, 2048, kernel_size=(1, 1), stride=(1, 1), bias=False)\n",
              "      (bn3): BatchNorm2d(2048, eps=1e-05, momentum=0.1, affine=True, track_running_stats=True)\n",
              "      (relu): ReLU(inplace=True)\n",
              "    )\n",
              "    (2): Bottleneck(\n",
              "      (conv1): Conv2d(2048, 512, kernel_size=(1, 1), stride=(1, 1), bias=False)\n",
              "      (bn1): BatchNorm2d(512, eps=1e-05, momentum=0.1, affine=True, track_running_stats=True)\n",
              "      (conv2): Conv2d(512, 512, kernel_size=(3, 3), stride=(1, 1), padding=(1, 1), bias=False)\n",
              "      (bn2): BatchNorm2d(512, eps=1e-05, momentum=0.1, affine=True, track_running_stats=True)\n",
              "      (conv3): Conv2d(512, 2048, kernel_size=(1, 1), stride=(1, 1), bias=False)\n",
              "      (bn3): BatchNorm2d(2048, eps=1e-05, momentum=0.1, affine=True, track_running_stats=True)\n",
              "      (relu): ReLU(inplace=True)\n",
              "    )\n",
              "  )\n",
              "  (avgpool): AdaptiveAvgPool2d(output_size=(1, 1))\n",
              "  (fc): Sequential(\n",
              "    (0): Linear(in_features=2048, out_features=2048, bias=True)\n",
              "    (1): SELU()\n",
              "    (2): Dropout(p=0.4, inplace=False)\n",
              "    (3): Linear(in_features=2048, out_features=2048, bias=True)\n",
              "    (4): SELU()\n",
              "    (5): Dropout(p=0.4, inplace=False)\n",
              "    (6): Linear(in_features=2048, out_features=4, bias=True)\n",
              "    (7): LogSigmoid()\n",
              "  )\n",
              ")"
            ]
          },
          "metadata": {},
          "execution_count": 15
        }
      ]
    },
    {
      "cell_type": "code",
      "source": [
        "# Cross Entropy loss is used for classification algorithm here as it is common\n",
        "# GPU is used if available for faster training\n",
        "crossen_loss = nn.CrossEntropyLoss().to(device)\n",
        "\n",
        "# Stochastic Gradient Descent optimizer and the specified parameters are generally preferred while using SGD\n",
        "sgd_opt = torch.optim.SGD(resnet_50.parameters(), momentum=0.9, lr=3e-4)\n",
        "\n",
        "# # of epochs to be trained\n",
        "epochs = 30\n",
        "\n",
        "# Lists to store train, test losses and accuracies\n",
        "train_losses, val_losses, train_accs, val_accs = [],[],[],[]"
      ],
      "metadata": {
        "id": "M_9i5LDrxGEs"
      },
      "execution_count": 16,
      "outputs": []
    },
    {
      "cell_type": "code",
      "source": [
        "def save_model(state, is_best, filename='/content/Drive/My Drive/Colab Notebooks/braintumordata/bt_resnet50_bt_intermodel.pth.tar'):\n",
        "    torch.save(state, filename)"
      ],
      "metadata": {
        "id": "Was9MaF6xJ8w"
      },
      "execution_count": 17,
      "outputs": []
    },
    {
      "cell_type": "code",
      "source": [
        "# This can be used to time your entire ruuning time for the process\n",
        "start_time = time.time()\n",
        "\n",
        "# Inorder to save the model at certain intervals the best_training loss should be a minimum of 2 else the model won't get saved\n",
        "best_prec_loss = 2\n",
        "\n",
        "# Batch Variables\n",
        "b = None\n",
        "train_b = None\n",
        "test_b = None\n",
        "\n",
        "# Training\n",
        "for i in range(epochs):\n",
        "    # Training Correct and Validation Correct is updated to 0 during every iteration\n",
        "    train_corr = 0\n",
        "    val_corr = 0\n",
        "    \n",
        "    # Timing Epoch: starting epoch time\n",
        "    e_start = time.time()\n",
        "    \n",
        "    # Batch Training\n",
        "    for b, (y, X) in enumerate(train_loader):\n",
        "        # Transfer variables to the device if available\n",
        "        X, y = X.to(device), y.to(device)\n",
        "\n",
        "        # Forward passing image\n",
        "        y_pred = resnet_50(X.view(-1, 3, 128, 128))\n",
        "        # Loss calculation\n",
        "        loss = crossen_loss(y_pred.float(), torch.argmax(y.view(-1, 4), dim=1).long())\n",
        "\n",
        "        # The argmax of the predicted tensor is assigned as our label\n",
        "        mod_pred = torch.argmax(y_pred, dim=1).data\n",
        "\n",
        "        # # of correctly predicted images in a batch is equal to the sum of all correctly predicted images\n",
        "        batch_corr = (mod_pred == torch.argmax(y.view(-1, 4), dim=1)).sum()\n",
        "\n",
        "        # Batch correct is added to train correct for tracking the # of correctly predicted labels of the training data\n",
        "        train_corr += batch_corr\n",
        "        \n",
        "        # Setting SGD opt gradient to zero\n",
        "        sgd_opt.zero_grad()\n",
        "\n",
        "        # Back propagation based on the loss to update weights to improve learning\n",
        "        loss.backward()\n",
        "\n",
        "        # Performing the increment in weights by taking a step\n",
        "        sgd_opt.step()\n",
        "\n",
        "    # Epoch end time\n",
        "    e_end = time.time()\n",
        "    # Output: Training Metrics\n",
        "    print(f'Current Epoch: {(i+1)} Running Batch: {(b+1)*4} \\nTraining Accuracy: {train_corr.item()*100/(4*6*b):2.2f} %  Training Loss: {loss.item():2.4f}  Training Duration: {((e_end-e_start)/60):.2f} minutes') # 4 images per batch * 8 augmentations per image * batch length\n",
        "\n",
        "    # Storing the training losses and correct to plot graph between losses and predicted corrects with batch\n",
        "    train_b = b\n",
        "    train_losses.append(loss)\n",
        "    train_accs.append(train_corr)\n",
        "\n",
        "    X, y = None, None\n",
        "\n",
        "    # Validation using val_loader data\n",
        "    # The backpropagation isn't performed as it is validation data\n",
        "    with torch.no_grad():\n",
        "        for b, (y, X) in enumerate(val_loader):\n",
        "            # set label as cuda if device is cuda\n",
        "            X, y = X.to(device), y.to(device)\n",
        "\n",
        "            # forward pass image\n",
        "            y_val = resnet_50(X.view(-1, 3, 128, 128))\n",
        "\n",
        "            # The argmax of the predicted tensor is assigned as our label\n",
        "            mod_pred = torch.argmax(y_val, dim=1).data\n",
        "\n",
        "            # Batch correct is added to validation correct for tracking the # of correctly predicted labels of the validation data\n",
        "            val_corr += (mod_pred == torch.argmax(y.view(-1, 4), dim=1)).sum()\n",
        "\n",
        "    # Loss of validation set\n",
        "    loss = crossen_loss(y_val.float(), torch.argmax(y.view(-1, 4), dim=1).long())\n",
        "    # Output validation metrics\n",
        "    print(f'Validation Accuracy {val_corr.item()*100/(4*6*b):2.2f} Validation Loss: {loss.item():2.4f}\\n')\n",
        "\n",
        "    # Saves model if the current validation loss less than the previous validation loss\n",
        "    best = loss < best_prec_loss\n",
        "    best_prec_loss = min(loss, best_prec_loss)\n",
        "    save_model({\n",
        "            'epoch': i + 1,\n",
        "            'state_dict': resnet_50.state_dict(),\n",
        "            'best_prec1': best_prec_loss,\n",
        "        }, best)\n",
        "\n",
        "    # Storing the validation losses and correct to plot graph between losses and predicted corrects with batch\n",
        "    val_b  = b\n",
        "    val_losses.append(loss)\n",
        "    val_accs.append(val_corr)\n",
        "\n",
        "# Training process's end time\n",
        "end_time = time.time() - start_time    \n",
        "\n",
        "# Total training duration\n",
        "print(\"\\nTraining Duration {:.2f} minutes\".format(end_time/60))"
      ],
      "metadata": {
        "colab": {
          "base_uri": "https://localhost:8080/"
        },
        "id": "LxogQaovxXCz",
        "outputId": "24385097-289a-479e-f8d0-a7aa55d57e56"
      },
      "execution_count": 19,
      "outputs": [
        {
          "output_type": "stream",
          "name": "stdout",
          "text": [
            "Current Epoch: 1 Running Batch: 2300 \n",
            "Training Accuracy: 80.62 %  Training Loss: 0.1883  Training Duration: 0.94 minutes\n",
            "Validation Accuracy 79.06 Validation Loss: 0.1008\n",
            "\n",
            "Current Epoch: 2 Running Batch: 2300 \n",
            "Training Accuracy: 83.83 %  Training Loss: 2.5855  Training Duration: 0.87 minutes\n",
            "Validation Accuracy 85.53 Validation Loss: 1.0974\n",
            "\n",
            "Current Epoch: 3 Running Batch: 2300 \n",
            "Training Accuracy: 87.84 %  Training Loss: 3.1493  Training Duration: 0.95 minutes\n",
            "Validation Accuracy 87.61 Validation Loss: 0.0600\n",
            "\n",
            "Current Epoch: 4 Running Batch: 2300 \n",
            "Training Accuracy: 88.96 %  Training Loss: 0.1003  Training Duration: 0.80 minutes\n",
            "Validation Accuracy 91.56 Validation Loss: 0.1425\n",
            "\n",
            "Current Epoch: 5 Running Batch: 2300 \n",
            "Training Accuracy: 92.63 %  Training Loss: 0.1851  Training Duration: 0.82 minutes\n",
            "Validation Accuracy 88.98 Validation Loss: 0.3547\n",
            "\n",
            "Current Epoch: 6 Running Batch: 2300 \n",
            "Training Accuracy: 92.91 %  Training Loss: 2.2677  Training Duration: 0.77 minutes\n",
            "Validation Accuracy 92.60 Validation Loss: 0.0097\n",
            "\n",
            "Current Epoch: 7 Running Batch: 2300 \n",
            "Training Accuracy: 94.05 %  Training Loss: 0.0388  Training Duration: 0.74 minutes\n",
            "Validation Accuracy 91.50 Validation Loss: 2.1104\n",
            "\n",
            "Current Epoch: 8 Running Batch: 2300 \n",
            "Training Accuracy: 95.21 %  Training Loss: 0.0710  Training Duration: 0.89 minutes\n",
            "Validation Accuracy 90.84 Validation Loss: 0.2086\n",
            "\n",
            "Current Epoch: 9 Running Batch: 2300 \n",
            "Training Accuracy: 95.51 %  Training Loss: 0.0215  Training Duration: 0.77 minutes\n",
            "Validation Accuracy 93.86 Validation Loss: 4.3410\n",
            "\n",
            "Current Epoch: 10 Running Batch: 2300 \n",
            "Training Accuracy: 95.94 %  Training Loss: 0.0172  Training Duration: 0.74 minutes\n",
            "Validation Accuracy 92.54 Validation Loss: 0.8246\n",
            "\n",
            "Current Epoch: 11 Running Batch: 2300 \n",
            "Training Accuracy: 97.56 %  Training Loss: 0.1154  Training Duration: 0.74 minutes\n",
            "Validation Accuracy 95.78 Validation Loss: 0.0206\n",
            "\n",
            "Current Epoch: 12 Running Batch: 2300 \n",
            "Training Accuracy: 97.31 %  Training Loss: 0.0625  Training Duration: 0.75 minutes\n",
            "Validation Accuracy 97.09 Validation Loss: 0.2235\n",
            "\n",
            "Current Epoch: 13 Running Batch: 2300 \n",
            "Training Accuracy: 97.78 %  Training Loss: 0.0074  Training Duration: 0.77 minutes\n",
            "Validation Accuracy 95.56 Validation Loss: 0.0026\n",
            "\n",
            "Current Epoch: 14 Running Batch: 2300 \n",
            "Training Accuracy: 97.77 %  Training Loss: 0.0005  Training Duration: 0.74 minutes\n",
            "Validation Accuracy 96.71 Validation Loss: 0.0013\n",
            "\n",
            "Current Epoch: 15 Running Batch: 2300 \n",
            "Training Accuracy: 98.23 %  Training Loss: 0.0007  Training Duration: 0.76 minutes\n",
            "Validation Accuracy 96.00 Validation Loss: 0.0146\n",
            "\n",
            "Current Epoch: 16 Running Batch: 2300 \n",
            "Training Accuracy: 98.82 %  Training Loss: 0.0007  Training Duration: 0.73 minutes\n",
            "Validation Accuracy 96.88 Validation Loss: 0.0019\n",
            "\n",
            "Current Epoch: 17 Running Batch: 2300 \n",
            "Training Accuracy: 98.68 %  Training Loss: 0.0065  Training Duration: 0.74 minutes\n",
            "Validation Accuracy 96.27 Validation Loss: 0.0045\n",
            "\n",
            "Current Epoch: 18 Running Batch: 2300 \n",
            "Training Accuracy: 98.69 %  Training Loss: 3.3723  Training Duration: 0.79 minutes\n",
            "Validation Accuracy 96.11 Validation Loss: 0.0022\n",
            "\n",
            "Current Epoch: 19 Running Batch: 2300 \n",
            "Training Accuracy: 99.40 %  Training Loss: 0.0122  Training Duration: 0.76 minutes\n",
            "Validation Accuracy 97.31 Validation Loss: 0.0078\n",
            "\n",
            "Current Epoch: 20 Running Batch: 2300 \n",
            "Training Accuracy: 98.91 %  Training Loss: 0.0011  Training Duration: 0.77 minutes\n",
            "Validation Accuracy 98.19 Validation Loss: 0.0005\n",
            "\n",
            "Current Epoch: 21 Running Batch: 2300 \n",
            "Training Accuracy: 99.54 %  Training Loss: 0.0381  Training Duration: 0.74 minutes\n",
            "Validation Accuracy 97.04 Validation Loss: 0.0008\n",
            "\n",
            "Current Epoch: 22 Running Batch: 2300 \n",
            "Training Accuracy: 99.55 %  Training Loss: 0.0005  Training Duration: 0.73 minutes\n",
            "Validation Accuracy 97.81 Validation Loss: 0.0003\n",
            "\n",
            "Current Epoch: 23 Running Batch: 2300 \n",
            "Training Accuracy: 99.46 %  Training Loss: 0.1545  Training Duration: 0.76 minutes\n",
            "Validation Accuracy 96.93 Validation Loss: 0.2221\n",
            "\n",
            "Current Epoch: 24 Running Batch: 2300 \n",
            "Training Accuracy: 99.46 %  Training Loss: 0.0450  Training Duration: 0.74 minutes\n",
            "Validation Accuracy 97.81 Validation Loss: 0.7070\n",
            "\n",
            "Current Epoch: 25 Running Batch: 2300 \n",
            "Training Accuracy: 99.35 %  Training Loss: 0.0622  Training Duration: 0.75 minutes\n",
            "Validation Accuracy 97.75 Validation Loss: 0.1120\n",
            "\n",
            "Current Epoch: 26 Running Batch: 2300 \n",
            "Training Accuracy: 99.60 %  Training Loss: 0.0019  Training Duration: 0.77 minutes\n",
            "Validation Accuracy 97.64 Validation Loss: 0.6424\n",
            "\n",
            "Current Epoch: 27 Running Batch: 2300 \n",
            "Training Accuracy: 99.47 %  Training Loss: 0.0034  Training Duration: 0.81 minutes\n",
            "Validation Accuracy 95.50 Validation Loss: 0.1804\n",
            "\n",
            "Current Epoch: 28 Running Batch: 2300 \n",
            "Training Accuracy: 99.58 %  Training Loss: 0.0001  Training Duration: 0.78 minutes\n",
            "Validation Accuracy 97.59 Validation Loss: 0.0020\n",
            "\n",
            "Current Epoch: 29 Running Batch: 2300 \n",
            "Training Accuracy: 99.62 %  Training Loss: 0.0059  Training Duration: 0.78 minutes\n",
            "Validation Accuracy 97.81 Validation Loss: 0.0003\n",
            "\n",
            "Current Epoch: 30 Running Batch: 2300 \n",
            "Training Accuracy: 99.50 %  Training Loss: 0.0094  Training Duration: 0.78 minutes\n",
            "Validation Accuracy 97.92 Validation Loss: 0.0004\n",
            "\n",
            "\n",
            "Training Duration 26.71 minutes\n"
          ]
        }
      ]
    },
    {
      "cell_type": "code",
      "source": [
        "torch.cuda.empty_cache()\n",
        "torch.save(resnet_50.state_dict(), '/content/Drive/My Drive/Colab Notebooks/braintumordata/bt_resnet50_model.pt')"
      ],
      "metadata": {
        "id": "GshDuzzuxiQ3"
      },
      "execution_count": 20,
      "outputs": []
    },
    {
      "cell_type": "code",
      "source": [
        "print(f'Validation accuracy: {val_accs[-1].item()*100/(val_b*6*4):.2f}%')"
      ],
      "metadata": {
        "id": "sa6GnWBtXAEK",
        "colab": {
          "base_uri": "https://localhost:8080/"
        },
        "outputId": "56c68938-7d19-49ad-eb63-ced1367cf9c9"
      },
      "execution_count": 21,
      "outputs": [
        {
          "output_type": "stream",
          "name": "stdout",
          "text": [
            "Validation accuracy: 97.92%\n"
          ]
        }
      ]
    },
    {
      "cell_type": "code",
      "source": [
        "train_losses_cpu = np.zeros(30, dtype=np.float32)\n",
        "val_losses_cpu = np.zeros(30, dtype=np.float32)\n",
        "\n",
        "for i in range(len(train_losses)):\n",
        "  train_losses_cpu[i] = train_losses[i].cpu().data.numpy()\n",
        "  val_losses_cpu[i] = val_losses[i].cpu().data.numpy()\n",
        "\n",
        "# print(train_losses_cpu)\n",
        "# print(val_losses_cpu)"
      ],
      "metadata": {
        "id": "R5Z2pnI53j4r"
      },
      "execution_count": 22,
      "outputs": []
    },
    {
      "cell_type": "code",
      "source": [
        "plt.plot(train_losses_cpu, label='Training loss')\n",
        "plt.plot(val_losses_cpu, label='Validation loss')\n",
        "plt.title('Loss Metrics')\n",
        "plt.ylabel('Loss')\n",
        "plt.xlabel('Epochs')\n",
        "plt.legend()\n",
        "plt.show()"
      ],
      "metadata": {
        "id": "Ey3CPbdZXG1Q",
        "colab": {
          "base_uri": "https://localhost:8080/",
          "height": 295
        },
        "outputId": "ec3bbfa6-2ce3-4609-a051-34afc2716e80"
      },
      "execution_count": 23,
      "outputs": [
        {
          "output_type": "display_data",
          "data": {
            "text/plain": [
              "<Figure size 432x288 with 1 Axes>"
            ],
            "image/png": "[encoded data removed]"
          },
          "metadata": {
            "needs_background": "light"
          }
        }
      ]
    },
    {
      "cell_type": "code",
      "source": [
        "train_accs_cpu = np.zeros(30, dtype=np.float32)\n",
        "val_accs_cpu = np.zeros(30, dtype=np.float32)\n",
        "\n",
        "for i in range(len(train_accs_cpu)):\n",
        "  train_accs_cpu[i] = train_accs[i].data.cpu().numpy()\n",
        "  val_accs_cpu[i] = val_accs[i].cpu().data.numpy()\n",
        "\n",
        "# print(train_accs_cpu)\n",
        "# print(val_accs_cpu)"
      ],
      "metadata": {
        "id": "CmGoqBFa96CL"
      },
      "execution_count": 24,
      "outputs": []
    },
    {
      "cell_type": "code",
      "source": [
        "plt.plot([t/171 for t in train_accs_cpu], label='Training accuracy')\n",
        "plt.plot([t/36 for t in val_accs_cpu], label='Validation accuracy')\n",
        "plt.title('Accuracy Metrics')\n",
        "plt.ylabel('Accuracy')\n",
        "plt.xlabel('Epochs')\n",
        "plt.legend()\n",
        "plt.show()"
      ],
      "metadata": {
        "id": "XD2JgQ3uXJ0k",
        "colab": {
          "base_uri": "https://localhost:8080/",
          "height": 295
        },
        "outputId": "0d6a13ba-e400-4f99-a02c-dd6abe51c1a5"
      },
      "execution_count": 25,
      "outputs": [
        {
          "output_type": "display_data",
          "data": {
            "text/plain": [
              "<Figure size 432x288 with 1 Axes>"
            ],
            "image/png": "[encoded data removed]"
          },
          "metadata": {
            "needs_background": "light"
          }
        }
      ]
    },
    {
      "cell_type": "code",
      "source": [
        "train_loader, val_loader, train_set, val_set = None, None, None, None"
      ],
      "metadata": {
        "id": "Tub2ZApdXL9-"
      },
      "execution_count": 26,
      "outputs": []
    },
    {
      "cell_type": "code",
      "source": [
        "# Setting model to evaluation mode\n",
        "resnet_50.eval()\n",
        "\n",
        "# No weight updates\n",
        "with torch.no_grad():\n",
        "    # soem metrics storage for visualization and analysis\n",
        "    test_pred = 0\n",
        "    test_loss, test_corr, labels, pred = [],[],[],[]\n",
        "\n",
        "    # Batch wise test set evaluation\n",
        "    for (y, X) in test_loader:\n",
        "        # Use GPU if available\n",
        "        X, y = X.to(device), y.to(device)\n",
        "\n",
        "        # Original labels\n",
        "        labels.append(torch.argmax(y.view(10*6, 4), dim=1).data)\n",
        "\n",
        "        # Forward pass\n",
        "        y_val = resnet_50(X.view(-1, 3, 128,128))\n",
        "\n",
        "        # The argmax of the predicted tensor is assigned as our label\n",
        "        pred_label = torch.argmax(y_val, dim=1).data\n",
        "\n",
        "        # Predicted label addition to the list\n",
        "        pred.append(pred_label)\n",
        "\n",
        "        # Compute loss\n",
        "        loss = crossen_loss(y_val.float(), torch.argmax(y.view(10*6, 4), dim=1).long())\n",
        "\n",
        "        # Adding the total correct predicted per batch to overall correct predictions\n",
        "        test_pred += (pred == torch.argmax(y.view(10*6, 4), dim=1)).sum()\n",
        "\n",
        "        # Storing correct \n",
        "        test_corr.append(test_pred)\n",
        "        test_loss.append(loss)\n",
        "        \n",
        "print(f\"Test Loss: {test_loss[-1].item():.4f}\")"
      ],
      "metadata": {
        "id": "7nxhCJFIXO71",
        "colab": {
          "base_uri": "https://localhost:8080/"
        },
        "outputId": "7f622cbd-5a51-42ba-9c76-7fe99eed7208"
      },
      "execution_count": 27,
      "outputs": [
        {
          "output_type": "stream",
          "name": "stderr",
          "text": [
            "/usr/local/lib/python3.7/dist-packages/torch/utils/data/dataloader.py:490: UserWarning: This DataLoader will create 8 worker processes in total. Our suggested max number of worker in current system is 2, which is smaller than what this DataLoader is going to create. Please be aware that excessive worker creation might get DataLoader running slow or even freeze, lower the worker number to avoid potential slowness/freeze if necessary.\n",
            "  cpuset_checked))\n"
          ]
        },
        {
          "output_type": "stream",
          "name": "stdout",
          "text": [
            "Test Loss: 0.0043\n"
          ]
        }
      ]
    },
    {
      "cell_type": "code",
      "source": [
        "print(f'Test accuracy: {test_corr[-1].item()*100/(460*6):.2f}%')"
      ],
      "metadata": {
        "id": "Rblzssn6XSYl",
        "colab": {
          "base_uri": "https://localhost:8080/"
        },
        "outputId": "59417ebb-e8f0-4551-fe1d-ef22039fc94a"
      },
      "execution_count": 28,
      "outputs": [
        {
          "output_type": "stream",
          "name": "stdout",
          "text": [
            "Test accuracy: 98.88%\n"
          ]
        }
      ]
    },
    {
      "cell_type": "code",
      "source": [
        "labels = torch.stack(labels)\n",
        "pred = torch.stack(pred)"
      ],
      "metadata": {
        "id": "0DK7MFpyXUlH"
      },
      "execution_count": 29,
      "outputs": []
    },
    {
      "cell_type": "code",
      "source": [
        "LABELS = ['Meningioma', 'Glioma', 'Pitutary']"
      ],
      "metadata": {
        "id": "G2EuKik1XWgS"
      },
      "execution_count": 30,
      "outputs": []
    },
    {
      "cell_type": "code",
      "source": [
        "conf_matrix = confusion_matrix(pred.view(-1).cpu(), labels.view(-1).cpu())\n",
        "df_cm = pd.DataFrame(conf_matrix, LABELS, LABELS)\n",
        "plt.figure(figsize = (9,6))\n",
        "sns.heatmap(df_cm, annot=True, fmt=\"d\", cmap='YlGnBu')\n",
        "plt.xlabel(\"Prediction\")\n",
        "plt.ylabel(\"Target\")\n",
        "plt.show()"
      ],
      "metadata": {
        "id": "00eAx8BBXWn0",
        "colab": {
          "base_uri": "https://localhost:8080/",
          "height": 388
        },
        "outputId": "b69f4042-ba7e-4666-c466-a3af221d0ba3"
      },
      "execution_count": 31,
      "outputs": [
        {
          "output_type": "display_data",
          "data": {
            "text/plain": [
              "<Figure size 648x432 with 2 Axes>"
            ],
            "image/png": "[encoded data removed]"
          },
          "metadata": {
            "needs_background": "light"
          }
        }
      ]
    },
    {
      "cell_type": "code",
      "source": [
        "print(f\"Clasification Report\\n\\n{classification_report(pred.view(-1).cpu(), labels.view(-1).cpu())}\")"
      ],
      "metadata": {
        "id": "FMphviHdXcWL",
        "colab": {
          "base_uri": "https://localhost:8080/"
        },
        "outputId": "5c464c80-f21d-4c36-d8b7-c6f0bbd9a6a3"
      },
      "execution_count": 32,
      "outputs": [
        {
          "output_type": "stream",
          "name": "stdout",
          "text": [
            "Clasification Report\n",
            "\n",
            "              precision    recall  f1-score   support\n",
            "\n",
            "           1       0.98      0.99      0.98       676\n",
            "           2       0.99      0.99      0.99      1295\n",
            "           3       0.98      1.00      0.99       789\n",
            "\n",
            "    accuracy                           0.99      2760\n",
            "   macro avg       0.99      0.99      0.99      2760\n",
            "weighted avg       0.99      0.99      0.99      2760\n",
            "\n"
          ]
        }
      ]
    }
  ]
}