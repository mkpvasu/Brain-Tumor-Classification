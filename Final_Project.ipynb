{
  "nbformat": 4,
  "nbformat_minor": 0,
  "metadata": {
    "colab": {
      "name": "Final Project.ipynb",
      "provenance": [],
      "collapsed_sections": [],
      "include_colab_link": true
    },
    "kernelspec": {
      "name": "python3",
      "display_name": "Python 3"
    },
    "language_info": {
      "name": "python"
    },
    "accelerator": "GPU",
    "widgets": {
      "application/vnd.jupyter.widget-state+json": {
        "2ee0a4d3fefd4eeaa0bc9282d042472e": {
          "model_module": "@jupyter-widgets/controls",
          "model_name": "HBoxModel",
          "model_module_version": "1.5.0",
          "state": {
            "_dom_classes": [],
            "_model_module": "@jupyter-widgets/controls",
            "_model_module_version": "1.5.0",
            "_model_name": "HBoxModel",
            "_view_count": null,
            "_view_module": "@jupyter-widgets/controls",
            "_view_module_version": "1.5.0",
            "_view_name": "HBoxView",
            "box_style": "",
            "children": [
              "IPY_MODEL_3518e938a7cd4513b4667d19daafd080",
              "IPY_MODEL_4c996a79769a4e2396fa107b3b49e5b2",
              "IPY_MODEL_ef729f0dd2e547f8a8a71a455cc1e49f"
            ],
            "layout": "IPY_MODEL_7deba49228434cc1b1cd0789350835fc"
          }
        },
        "3518e938a7cd4513b4667d19daafd080": {
          "model_module": "@jupyter-widgets/controls",
          "model_name": "HTMLModel",
          "model_module_version": "1.5.0",
          "state": {
            "_dom_classes": [],
            "_model_module": "@jupyter-widgets/controls",
            "_model_module_version": "1.5.0",
            "_model_name": "HTMLModel",
            "_view_count": null,
            "_view_module": "@jupyter-widgets/controls",
            "_view_module_version": "1.5.0",
            "_view_name": "HTMLView",
            "description": "",
            "description_tooltip": null,
            "layout": "IPY_MODEL_14a0e63f49a245c389fcc054ec6a2a6b",
            "placeholder": "​",
            "style": "IPY_MODEL_63e9599125734d719e24081974e44906",
            "value": "100%"
          }
        },
        "4c996a79769a4e2396fa107b3b49e5b2": {
          "model_module": "@jupyter-widgets/controls",
          "model_name": "FloatProgressModel",
          "model_module_version": "1.5.0",
          "state": {
            "_dom_classes": [],
            "_model_module": "@jupyter-widgets/controls",
            "_model_module_version": "1.5.0",
            "_model_name": "FloatProgressModel",
            "_view_count": null,
            "_view_module": "@jupyter-widgets/controls",
            "_view_module_version": "1.5.0",
            "_view_name": "ProgressView",
            "bar_style": "success",
            "description": "",
            "description_tooltip": null,
            "layout": "IPY_MODEL_ef3886bb45fb4e57800d34c96604f4b9",
            "max": 102530333,
            "min": 0,
            "orientation": "horizontal",
            "style": "IPY_MODEL_37885c95c45242d7bc475bec2c6b58ff",
            "value": 102530333
          }
        },
        "ef729f0dd2e547f8a8a71a455cc1e49f": {
          "model_module": "@jupyter-widgets/controls",
          "model_name": "HTMLModel",
          "model_module_version": "1.5.0",
          "state": {
            "_dom_classes": [],
            "_model_module": "@jupyter-widgets/controls",
            "_model_module_version": "1.5.0",
            "_model_name": "HTMLModel",
            "_view_count": null,
            "_view_module": "@jupyter-widgets/controls",
            "_view_module_version": "1.5.0",
            "_view_name": "HTMLView",
            "description": "",
            "description_tooltip": null,
            "layout": "IPY_MODEL_9c17f7238f334366994505c37212ad95",
            "placeholder": "​",
            "style": "IPY_MODEL_dec6d8575388488ebcaaf24f05e3eb84",
            "value": " 97.8M/97.8M [00:00&lt;00:00, 142MB/s]"
          }
        },
        "7deba49228434cc1b1cd0789350835fc": {
          "model_module": "@jupyter-widgets/base",
          "model_name": "LayoutModel",
          "model_module_version": "1.2.0",
          "state": {
            "_model_module": "@jupyter-widgets/base",
            "_model_module_version": "1.2.0",
            "_model_name": "LayoutModel",
            "_view_count": null,
            "_view_module": "@jupyter-widgets/base",
            "_view_module_version": "1.2.0",
            "_view_name": "LayoutView",
            "align_content": null,
            "align_items": null,
            "align_self": null,
            "border": null,
            "bottom": null,
            "display": null,
            "flex": null,
            "flex_flow": null,
            "grid_area": null,
            "grid_auto_columns": null,
            "grid_auto_flow": null,
            "grid_auto_rows": null,
            "grid_column": null,
            "grid_gap": null,
            "grid_row": null,
            "grid_template_areas": null,
            "grid_template_columns": null,
            "grid_template_rows": null,
            "height": null,
            "justify_content": null,
            "justify_items": null,
            "left": null,
            "margin": null,
            "max_height": null,
            "max_width": null,
            "min_height": null,
            "min_width": null,
            "object_fit": null,
            "object_position": null,
            "order": null,
            "overflow": null,
            "overflow_x": null,
            "overflow_y": null,
            "padding": null,
            "right": null,
            "top": null,
            "visibility": null,
            "width": null
          }
        },
        "14a0e63f49a245c389fcc054ec6a2a6b": {
          "model_module": "@jupyter-widgets/base",
          "model_name": "LayoutModel",
          "model_module_version": "1.2.0",
          "state": {
            "_model_module": "@jupyter-widgets/base",
            "_model_module_version": "1.2.0",
            "_model_name": "LayoutModel",
            "_view_count": null,
            "_view_module": "@jupyter-widgets/base",
            "_view_module_version": "1.2.0",
            "_view_name": "LayoutView",
            "align_content": null,
            "align_items": null,
            "align_self": null,
            "border": null,
            "bottom": null,
            "display": null,
            "flex": null,
            "flex_flow": null,
            "grid_area": null,
            "grid_auto_columns": null,
            "grid_auto_flow": null,
            "grid_auto_rows": null,
            "grid_column": null,
            "grid_gap": null,
            "grid_row": null,
            "grid_template_areas": null,
            "grid_template_columns": null,
            "grid_template_rows": null,
            "height": null,
            "justify_content": null,
            "justify_items": null,
            "left": null,
            "margin": null,
            "max_height": null,
            "max_width": null,
            "min_height": null,
            "min_width": null,
            "object_fit": null,
            "object_position": null,
            "order": null,
            "overflow": null,
            "overflow_x": null,
            "overflow_y": null,
            "padding": null,
            "right": null,
            "top": null,
            "visibility": null,
            "width": null
          }
        },
        "63e9599125734d719e24081974e44906": {
          "model_module": "@jupyter-widgets/controls",
          "model_name": "DescriptionStyleModel",
          "model_module_version": "1.5.0",
          "state": {
            "_model_module": "@jupyter-widgets/controls",
            "_model_module_version": "1.5.0",
            "_model_name": "DescriptionStyleModel",
            "_view_count": null,
            "_view_module": "@jupyter-widgets/base",
            "_view_module_version": "1.2.0",
            "_view_name": "StyleView",
            "description_width": ""
          }
        },
        "ef3886bb45fb4e57800d34c96604f4b9": {
          "model_module": "@jupyter-widgets/base",
          "model_name": "LayoutModel",
          "model_module_version": "1.2.0",
          "state": {
            "_model_module": "@jupyter-widgets/base",
            "_model_module_version": "1.2.0",
            "_model_name": "LayoutModel",
            "_view_count": null,
            "_view_module": "@jupyter-widgets/base",
            "_view_module_version": "1.2.0",
            "_view_name": "LayoutView",
            "align_content": null,
            "align_items": null,
            "align_self": null,
            "border": null,
            "bottom": null,
            "display": null,
            "flex": null,
            "flex_flow": null,
            "grid_area": null,
            "grid_auto_columns": null,
            "grid_auto_flow": null,
            "grid_auto_rows": null,
            "grid_column": null,
            "grid_gap": null,
            "grid_row": null,
            "grid_template_areas": null,
            "grid_template_columns": null,
            "grid_template_rows": null,
            "height": null,
            "justify_content": null,
            "justify_items": null,
            "left": null,
            "margin": null,
            "max_height": null,
            "max_width": null,
            "min_height": null,
            "min_width": null,
            "object_fit": null,
            "object_position": null,
            "order": null,
            "overflow": null,
            "overflow_x": null,
            "overflow_y": null,
            "padding": null,
            "right": null,
            "top": null,
            "visibility": null,
            "width": null
          }
        },
        "37885c95c45242d7bc475bec2c6b58ff": {
          "model_module": "@jupyter-widgets/controls",
          "model_name": "ProgressStyleModel",
          "model_module_version": "1.5.0",
          "state": {
            "_model_module": "@jupyter-widgets/controls",
            "_model_module_version": "1.5.0",
            "_model_name": "ProgressStyleModel",
            "_view_count": null,
            "_view_module": "@jupyter-widgets/base",
            "_view_module_version": "1.2.0",
            "_view_name": "StyleView",
            "bar_color": null,
            "description_width": ""
          }
        },
        "9c17f7238f334366994505c37212ad95": {
          "model_module": "@jupyter-widgets/base",
          "model_name": "LayoutModel",
          "model_module_version": "1.2.0",
          "state": {
            "_model_module": "@jupyter-widgets/base",
            "_model_module_version": "1.2.0",
            "_model_name": "LayoutModel",
            "_view_count": null,
            "_view_module": "@jupyter-widgets/base",
            "_view_module_version": "1.2.0",
            "_view_name": "LayoutView",
            "align_content": null,
            "align_items": null,
            "align_self": null,
            "border": null,
            "bottom": null,
            "display": null,
            "flex": null,
            "flex_flow": null,
            "grid_area": null,
            "grid_auto_columns": null,
            "grid_auto_flow": null,
            "grid_auto_rows": null,
            "grid_column": null,
            "grid_gap": null,
            "grid_row": null,
            "grid_template_areas": null,
            "grid_template_columns": null,
            "grid_template_rows": null,
            "height": null,
            "justify_content": null,
            "justify_items": null,
            "left": null,
            "margin": null,
            "max_height": null,
            "max_width": null,
            "min_height": null,
            "min_width": null,
            "object_fit": null,
            "object_position": null,
            "order": null,
            "overflow": null,
            "overflow_x": null,
            "overflow_y": null,
            "padding": null,
            "right": null,
            "top": null,
            "visibility": null,
            "width": null
          }
        },
        "dec6d8575388488ebcaaf24f05e3eb84": {
          "model_module": "@jupyter-widgets/controls",
          "model_name": "DescriptionStyleModel",
          "model_module_version": "1.5.0",
          "state": {
            "_model_module": "@jupyter-widgets/controls",
            "_model_module_version": "1.5.0",
            "_model_name": "DescriptionStyleModel",
            "_view_count": null,
            "_view_module": "@jupyter-widgets/base",
            "_view_module_version": "1.2.0",
            "_view_name": "StyleView",
            "description_width": ""
          }
        }
      }
    }
  },
  "cells": [
    {
      "cell_type": "markdown",
      "metadata": {
        "id": "view-in-github",
        "colab_type": "text"
      },
      "source": [
        "<a href=\"https://colab.research.google.com/github/mkpvasu/Brain-Tumor-Classification/blob/main/Final_Project.ipynb\" target=\"_parent\"><img src=\"https://colab.research.google.com/assets/colab-badge.svg\" alt=\"Open In Colab\"/></a>"
      ]
    },
    {
      "cell_type": "markdown",
      "source": [
        "<b><center>DATASET PREPARATION</center></b>\n",
        "\n",
        "The [dataset](https://figshare.com/articles/dataset/brain_tumor_dataset/1512427) used for our brain tumor classification model is published by Jun Chen.\n",
        "\n",
        "More information about the dataset:\n",
        "<p align = 'justify'>It contains 3064 T1-weighted contrast-inhanced MRI images of patients with three kinds of brain tumor: meningioma (708 slices),  glioma (1426 slices), and pituitary tumor (930 slices).</p>\n",
        "\n",
        "---\n",
        "This data is organized in matlab data format (.mat file). Each file stores a struct containing the following fields for an image:\n",
        "\n",
        "<b>cjdata.label</b> : 1 for meningioma, 2 for glioma, 3 for pituitary tumor \n",
        "\n",
        "* <b>cjdata.PID</b> : patient ID\n",
        "* <b>cjdata.image</b> : image data\n",
        "* <b>cjdata.tumorBorder</b> : a vector storing the coordinates of discrete points on tumor border\n",
        "* <b>cjdata.tumorMask</b> : a binary image with 1s indicating tumor region"
      ],
      "metadata": {
        "id": "RZcX_Z1PpW49"
      }
    },
    {
      "cell_type": "code",
      "source": [
        "!git clone https://github.com/tzuan16/BrainTumorClassification"
      ],
      "metadata": {
        "id": "zKpJ0lAyRhYF",
        "colab": {
          "base_uri": "https://localhost:8080/"
        },
        "outputId": "618b6b8f-b1ec-4e79-d12c-aa17b4ed5cc5"
      },
      "execution_count": null,
      "outputs": [
        {
          "output_type": "stream",
          "name": "stdout",
          "text": [
            "Cloning into 'BrainTumorClassification'...\n",
            "remote: Enumerating objects: 3575, done.\u001b[K\n",
            "remote: Counting objects: 100% (87/87), done.\u001b[K\n",
            "remote: Compressing objects: 100% (72/72), done.\u001b[K\n",
            "remote: Total 3575 (delta 38), reused 30 (delta 10), pack-reused 3488\u001b[K\n",
            "Receiving objects: 100% (3575/3575), 847.52 MiB | 24.66 MiB/s, done.\n",
            "Resolving deltas: 100% (70/70), done.\n",
            "Checking out files: 100% (3574/3574), done.\n"
          ]
        }
      ]
    },
    {
      "cell_type": "code",
      "source": [
        "import numpy as np\n",
        "import matplotlib.pyplot as plt\n",
        "import seaborn as sns\n",
        "import pandas as pd\n",
        "import cv2\n",
        "import torch\n",
        "import torch.nn as nn\n",
        "import torch.nn.functional as F\n",
        "from torch.utils.data import DataLoader, Dataset\n",
        "from torchvision import transforms, models\n",
        "from torchvision.utils import make_grid\n",
        "import os\n",
        "import random\n",
        "import time\n",
        "from sklearn.metrics import confusion_matrix, classification_report\n",
        "import h5py\n",
        "from PIL import Image"
      ],
      "metadata": {
        "id": "DKfEMgqU7IAv"
      },
      "execution_count": null,
      "outputs": []
    },
    {
      "cell_type": "code",
      "source": [
        "import numpy as np\n",
        "\n",
        "import os\n",
        "\n",
        "def categorize_data():\n",
        "  dir = 'BrainTumorClassification/data/'\n",
        "  meningioma = []\n",
        "  glioma = []\n",
        "  pituitary = []\n",
        "\n",
        "  for filename in os.listdir(dir):\n",
        "    f = h5py.File(dir + filename,'r')\n",
        "    data = f['cjdata']\n",
        "    label = data['label'][0,0]\n",
        "    image = np.array(data['image'])\n",
        "\n",
        "    if np.size(image) != 262144:\n",
        "      continue\n",
        "\n",
        "    try:\n",
        "      if label == 1:\n",
        "        meningioma.append([image, label])\n",
        "      elif label == 2:\n",
        "        glioma.append([image, label])\n",
        "      elif label == 3:\n",
        "        pituitary.append([image, label])\n",
        "    except:\n",
        "      continue\n",
        "\n",
        "  print('Data categorized')\n",
        "  return meningioma,glioma,pituitary"
      ],
      "metadata": {
        "id": "Y1PxmRPpRltV"
      },
      "execution_count": null,
      "outputs": []
    },
    {
      "cell_type": "code",
      "source": [
        "meningioma,glioma,pituitary = categorize_data()"
      ],
      "metadata": {
        "id": "202y42pYRzFA",
        "colab": {
          "base_uri": "https://localhost:8080/"
        },
        "outputId": "9913aebe-6884-47e8-8d75-276ea7a2cb44"
      },
      "execution_count": null,
      "outputs": [
        {
          "output_type": "stream",
          "name": "stdout",
          "text": [
            "Data categorized\n"
          ]
        }
      ]
    },
    {
      "cell_type": "code",
      "source": [
        "import matplotlib.pyplot as plt\n",
        "\n",
        "def imshow(npimg):\n",
        "    plt.imshow(npimg)\n",
        "    plt.show()\n",
        "\n",
        "print(np.shape(pituitary[0][0]))"
      ],
      "metadata": {
        "colab": {
          "base_uri": "https://localhost:8080/"
        },
        "id": "6XUOpXjnYFRY",
        "outputId": "d6246d99-c47b-4831-a59f-1551ea2bc4d8"
      },
      "execution_count": null,
      "outputs": [
        {
          "output_type": "stream",
          "name": "stdout",
          "text": [
            "(512, 512)\n"
          ]
        }
      ]
    },
    {
      "cell_type": "code",
      "source": [
        "import random\n",
        "\n",
        "# Define the dataset to be used for training as train_data and test as test_data\n",
        "\n",
        "train_data = []\n",
        "val_data = []\n",
        "test_data = []\n",
        "img = None\n",
        "label = None\n",
        "\n",
        "# Define the ratio of train, validation and test data split for each category of tumors.\n",
        "# Suppose if the train_ratio is 0.7, then 70% of images in each category will be added to the training data with shuffling within particular category each time.\n",
        "# Suppose if the val_ratio is 0.15, then 15% of images in each category will be added to the validation data with shuffling within particular category each time.\n",
        "\n",
        "train_ratio = 0.7\n",
        "val_ratio = 0.15\n",
        "test_ratio = 0.15\n",
        "\n",
        "# Splitting the meningioma according to the train_test_ratio and adding them to training data\n",
        "\n",
        "meningioma_train_split = round(train_ratio*len(meningioma))\n",
        "meningioma_val_split = round(val_ratio*len(meningioma))\n",
        "meningioma_test_split = round(test_ratio*len(meningioma))\n",
        "\n",
        "random.shuffle(meningioma)\n",
        "train_data += meningioma[:meningioma_train_split][:]\n",
        "val_data += meningioma[meningioma_train_split:meningioma_train_split+meningioma_val_split][:]\n",
        "test_data += meningioma[meningioma_train_split+meningioma_val_split:][:]\n",
        "\n",
        "# Splitting the glioma according to the train_test_ratio and adding them to training data\n",
        "\n",
        "glioma_train_split = round(train_ratio*len(glioma))\n",
        "glioma_val_split = round(val_ratio*len(glioma))\n",
        "glioma_test_split = round(test_ratio*len(glioma))\n",
        "\n",
        "random.shuffle(glioma)\n",
        "train_data += glioma[:glioma_train_split][:]\n",
        "val_data += glioma[glioma_train_split:glioma_train_split+glioma_val_split][:]\n",
        "test_data += glioma[glioma_train_split+glioma_val_split:][:]\n",
        "\n",
        "# Splitting the pituitary according to the train_test_ratio and adding them to training data\n",
        "\n",
        "pituitary_train_split = round(train_ratio*len(pituitary))\n",
        "pituitary_val_split = round(val_ratio*len(pituitary))\n",
        "pituitary_test_split = round(test_ratio*len(pituitary))\n",
        "\n",
        "random.shuffle(pituitary)\n",
        "train_data += pituitary[:pituitary_train_split][:]\n",
        "val_data += pituitary[pituitary_train_split:pituitary_train_split+pituitary_val_split][:]\n",
        "test_data += (pituitary[pituitary_train_split+pituitary_val_split:][:])\n",
        "\n",
        "# Shuffle data to make our model more robust as it encounters variations each time we run the model\n",
        "random.shuffle(train_data)\n",
        "random.shuffle(val_data)\n",
        "random.shuffle(test_data)\n",
        "\n",
        "# Resize img\n",
        "tmp = []\n",
        "for img,label in train_data:\n",
        "  rimg = cv2.resize(img,(64,64))\n",
        "  tmp.append([rimg, label])\n",
        "train_data = [i for i in tmp]\n",
        "tmp.clear();\n",
        "\n",
        "for img,label in test_data:\n",
        "  rimg = cv2.resize(img,(64,64))\n",
        "  tmp.append([rimg, label])\n",
        "test_data = [i for i in tmp];\n",
        "\n",
        "print(f\"Number of training samples: {len(train_data)}\")\n",
        "print(f\"Number of validation samples: {len(val_data)}\")\n",
        "print(f\"Number of testing samples: {len(test_data)}\")"
      ],
      "metadata": {
        "id": "NR8V1E1FR1WG",
        "colab": {
          "base_uri": "https://localhost:8080/"
        },
        "outputId": "a060896b-7886-4148-86bd-367984f35761"
      },
      "execution_count": null,
      "outputs": [
        {
          "output_type": "stream",
          "name": "stdout",
          "text": [
            "Number of training samples: 2134\n",
            "Number of validation samples: 457\n",
            "Number of testing samples: 458\n"
          ]
        }
      ]
    },
    {
      "cell_type": "code",
      "source": [
        "class BrainTumorDataset(Dataset):\n",
        "  def __init__(self, images, labels):\n",
        "    # images\n",
        "    self.X = images\n",
        "    # labels\n",
        "    self.y = labels\n",
        "    \n",
        "    # Transformation for converting original image array to an image and then convert it to a tensor\n",
        "    self.tf = transforms.Compose([transforms.ToPILImage(), transforms.Resize([64,64],transforms.InterpolationMode.NEAREST), transforms.ToTensor()])\n",
        "    \n",
        "    # Transformation for converting original image array to an image and then convert it to a tensor\n",
        "    self.transform = transforms.Compose([transforms.ToPILImage(),\n",
        "        transforms.ToTensor()\n",
        "    ])\n",
        "\n",
        "    # Transformation for converting original image array to an image, rotate it randomly between -45 degrees and 45 degrees, and then convert it to a tensor\n",
        "    #self.transform1 = transforms.Compose([\n",
        "    #    transforms.ToPILImage(),                                          \n",
        "    #    transforms.RandomRotation(45),\n",
        "    #    transforms.ToTensor()                                 \n",
        "    #])\n",
        "\n",
        "    # Transformation for converting original image array to an image, vertically flipping it with a probability of 0.75 and then convert it to a tensor\n",
        "    #self.transform1 = transforms.Compose([\n",
        "    #    transforms.ToPILImage(),                                          \n",
        "    #    transforms.RandomVerticalFlip(p=0.75),\n",
        "    #    transforms.ToTensor()                                 \n",
        "    #])\n",
        "\n",
        "  def __len__(self):\n",
        "    # return length of image samples\n",
        "    return len(self.X)\n",
        "\n",
        "  def __getitem__(self, idx):\n",
        "    # perform transformations on one instance of X\n",
        "    # Original image as a tensor\n",
        "    data = self.transform(self.X[idx])\n",
        "\n",
        "    # Augmented image at 45 degrees as a tensor\n",
        "    #aug45 = self.transform1(self.X[idx])\n",
        "\n",
        "    # Augmented image with vertical flip as a tensor\n",
        "    #augvp = self.transform1(self.X[idx])     \n",
        "    \n",
        "    # store the transformed images in a list\n",
        "    new_batch = [data]\n",
        "\n",
        "    # one-hot encode the labels\n",
        "    labels = torch.zeros(4, dtype=torch.float32)\n",
        "    labels[int(self.y[idx])] = 1.0\n",
        "\n",
        "    new_labels = [labels]\n",
        "\n",
        "    # 2 augmented images and corresponding labels per sample will be returned\n",
        "    return (torch.stack(new_batch),torch.tensor(self.y[idx]))"
      ],
      "metadata": {
        "id": "fwwk-nAsrTX9"
      },
      "execution_count": null,
      "outputs": []
    },
    {
      "cell_type": "code",
      "source": [
        "train_set = BrainTumorDataset([x[0] for x in train_data], [x[1] for x in train_data])\n",
        "val_set = BrainTumorDataset([x[0] for x in val_data], [x[1] for x in val_data])\n",
        "test_set = BrainTumorDataset([x[0] for x in test_data], [x[1] for x in test_data])"
      ],
      "metadata": {
        "id": "XEfkZWYA6G6s"
      },
      "execution_count": null,
      "outputs": []
    },
    {
      "cell_type": "code",
      "source": [
        "device_name = \"cuda:0\" if torch.cuda.is_available() else \"cpu\"\n",
        "device = torch.device(device_name)"
      ],
      "metadata": {
        "id": "sBlpUmHn7Zj8"
      },
      "execution_count": null,
      "outputs": []
    },
    {
      "cell_type": "code",
      "source": [
        "def get_data(trainset, valset, testset):\n",
        "  trainloader = torch.utils.data.DataLoader(trainset, batch_size=4, shuffle=True, num_workers=2)\n",
        "  valloader = torch.utils.data.DataLoader(valset, batch_size=4, shuffle=False, num_workers=2)\n",
        "  testloader = torch.utils.data.DataLoader(testset, batch_size=4, shuffle=False, num_workers=2)\n",
        "\n",
        "  return {'train': trainloader, 'val': valloader, 'test': testloader}\n",
        "\n",
        "data = get_data(train_set, val_set, test_set)"
      ],
      "metadata": {
        "id": "fpJvz-gmomlY"
      },
      "execution_count": null,
      "outputs": []
    },
    {
      "cell_type": "code",
      "source": [
        "import torch.nn as nn\n",
        "import torch.nn.functional as F\n",
        "import torch.optim as optim\n",
        "\n",
        "def train(net, dataloader, epochs=32, lr=0.01, momentum=0.1, decay=0.01, verbose=1):\n",
        "  net.to(device)\n",
        "  losses = []\n",
        "  criterion = nn.CrossEntropyLoss()\n",
        "  optimizer = optim.SGD(net.parameters(), lr=lr, momentum=momentum, weight_decay=decay)\n",
        "  for epoch in range(epochs):\n",
        "    sum_loss = 0.0\n",
        "    for i, (inputs,labels) in enumerate(data['train']):\n",
        "\n",
        "        # set label as cuda if device is cuda\n",
        "        inputs, labels = inputs.type(torch.cuda.FloatTensor).to(device), labels.type(torch.cuda.LongTensor).to(device)\n",
        "        # get the inputs; data is a list of [inputs, labels]\n",
        "        inputs = inputs.view(-1, 1, 64, 64).repeat(1, 3, 1, 1)\n",
        "\n",
        "        # zero the parameter gradients\n",
        "        optimizer.zero_grad()\n",
        "\n",
        "        # forward + backward + optimize \n",
        "        outputs = net(inputs)\n",
        "        loss = criterion(outputs, labels)\n",
        "        loss.backward()  # autograd magic, computes all the partial derivatives\n",
        "        optimizer.step() # takes a step in gradient direction\n",
        "\n",
        "        # print statistics\n",
        "        losses.append(loss.item())\n",
        "        sum_loss += loss.item()\n",
        "        if i % 100 == 99:    # print every 100 mini-batches\n",
        "            if verbose:\n",
        "              print('[%d, %5d] loss: %.3f' %\n",
        "                  (epoch + 1, i + 1, sum_loss / 100))\n",
        "            sum_loss = 0.0\n",
        "  return losses\n",
        "\n",
        "def accuracy(net, dataloader):\n",
        "  correct = 0\n",
        "  total = 0\n",
        "  with torch.no_grad():\n",
        "      for batch in dataloader:\n",
        "          images, labels = batch[0], batch[1]\n",
        "          images, labels = images.type(torch.cuda.FloatTensor).to(device), labels.type(torch.cuda.LongTensor).to(device)\n",
        "          images = images.view(-1, 1, 64, 64).repeat(1, 3, 1, 1)\n",
        "          outputs = net(images)\n",
        "          _, predicted = torch.max(outputs.data, 1)\n",
        "          total += labels.size(0)\n",
        "          correct += (predicted == labels).sum().item()\n",
        "  return correct/total\n",
        "\n",
        "def smooth(x, size):\n",
        "  return np.convolve(x, np.ones(size)/size, mode='valid')"
      ],
      "metadata": {
        "id": "4qTXs3hR6Z8g"
      },
      "execution_count": null,
      "outputs": []
    },
    {
      "cell_type": "code",
      "source": [
        "import torchvision\n",
        "\n",
        "net = torchvision.models.resnet50(pretrained = True)\n",
        "for param in net.parameters():\n",
        "    param.requires_grad = True\n",
        "\n",
        "conv_losses = train(net, data['train'], epochs=15, lr=.01)\n",
        "plt.plot(smooth(conv_losses, 50))\n",
        "\n",
        "print(\"Training accuracy: %f\" % accuracy(net, data['train']))\n",
        "print(\"Testing  accuracy: %f\" % accuracy(net, data['test']))"
      ],
      "metadata": {
        "id": "5NzMJrvi6Z_M",
        "colab": {
          "base_uri": "https://localhost:8080/",
          "height": 1000,
          "referenced_widgets": [
            "2ee0a4d3fefd4eeaa0bc9282d042472e",
            "3518e938a7cd4513b4667d19daafd080",
            "4c996a79769a4e2396fa107b3b49e5b2",
            "ef729f0dd2e547f8a8a71a455cc1e49f",
            "7deba49228434cc1b1cd0789350835fc",
            "14a0e63f49a245c389fcc054ec6a2a6b",
            "63e9599125734d719e24081974e44906",
            "ef3886bb45fb4e57800d34c96604f4b9",
            "37885c95c45242d7bc475bec2c6b58ff",
            "9c17f7238f334366994505c37212ad95",
            "dec6d8575388488ebcaaf24f05e3eb84"
          ]
        },
        "outputId": "3c61a192-b607-4ea4-ac10-52e847098389"
      },
      "execution_count": null,
      "outputs": [
        {
          "output_type": "stream",
          "name": "stderr",
          "text": [
            "Downloading: \"https://download.pytorch.org/models/resnet50-0676ba61.pth\" to /root/.cache/torch/hub/checkpoints/resnet50-0676ba61.pth\n"
          ]
        },
        {
          "output_type": "display_data",
          "data": {
            "text/plain": [
              "  0%|          | 0.00/97.8M [00:00<?, ?B/s]"
            ],
            "application/vnd.jupyter.widget-view+json": {
              "version_major": 2,
              "version_minor": 0,
              "model_id": "2ee0a4d3fefd4eeaa0bc9282d042472e"
            }
          },
          "metadata": {}
        },
        {
          "output_type": "stream",
          "name": "stdout",
          "text": [
            "[1,   100] loss: 1.969\n",
            "[1,   200] loss: 1.133\n",
            "[1,   300] loss: 0.996\n",
            "[1,   400] loss: 0.741\n",
            "[1,   500] loss: 0.657\n",
            "[2,   100] loss: 0.606\n",
            "[2,   200] loss: 0.535\n",
            "[2,   300] loss: 0.581\n",
            "[2,   400] loss: 0.458\n",
            "[2,   500] loss: 0.449\n",
            "[3,   100] loss: 0.366\n",
            "[3,   200] loss: 0.453\n",
            "[3,   300] loss: 0.401\n",
            "[3,   400] loss: 0.304\n",
            "[3,   500] loss: 0.277\n",
            "[4,   100] loss: 0.227\n",
            "[4,   200] loss: 0.232\n",
            "[4,   300] loss: 0.318\n",
            "[4,   400] loss: 0.280\n",
            "[4,   500] loss: 0.284\n",
            "[5,   100] loss: 0.264\n",
            "[5,   200] loss: 0.150\n",
            "[5,   300] loss: 0.274\n",
            "[5,   400] loss: 0.169\n",
            "[5,   500] loss: 0.139\n",
            "[6,   100] loss: 0.136\n",
            "[6,   200] loss: 0.110\n",
            "[6,   300] loss: 0.143\n",
            "[6,   400] loss: 0.211\n",
            "[6,   500] loss: 0.177\n",
            "[7,   100] loss: 0.078\n",
            "[7,   200] loss: 0.093\n",
            "[7,   300] loss: 0.095\n",
            "[7,   400] loss: 0.217\n",
            "[7,   500] loss: 0.154\n",
            "[8,   100] loss: 0.170\n",
            "[8,   200] loss: 0.123\n",
            "[8,   300] loss: 0.152\n",
            "[8,   400] loss: 0.084\n",
            "[8,   500] loss: 0.120\n",
            "[9,   100] loss: 0.112\n",
            "[9,   200] loss: 0.077\n",
            "[9,   300] loss: 0.123\n",
            "[9,   400] loss: 0.135\n",
            "[9,   500] loss: 0.141\n",
            "[10,   100] loss: 0.103\n",
            "[10,   200] loss: 0.198\n",
            "[10,   300] loss: 0.081\n",
            "[10,   400] loss: 0.093\n",
            "[10,   500] loss: 0.057\n",
            "[11,   100] loss: 0.094\n",
            "[11,   200] loss: 0.094\n",
            "[11,   300] loss: 0.040\n",
            "[11,   400] loss: 0.191\n",
            "[11,   500] loss: 0.115\n",
            "[12,   100] loss: 0.080\n",
            "[12,   200] loss: 0.268\n",
            "[12,   300] loss: 0.218\n",
            "[12,   400] loss: 0.166\n",
            "[12,   500] loss: 0.105\n",
            "[13,   100] loss: 0.180\n",
            "[13,   200] loss: 0.184\n",
            "[13,   300] loss: 0.221\n",
            "[13,   400] loss: 0.142\n",
            "[13,   500] loss: 0.097\n",
            "[14,   100] loss: 0.075\n",
            "[14,   200] loss: 0.145\n",
            "[14,   300] loss: 0.171\n",
            "[14,   400] loss: 0.192\n",
            "[14,   500] loss: 0.149\n",
            "[15,   100] loss: 0.150\n",
            "[15,   200] loss: 0.090\n",
            "[15,   300] loss: 0.139\n",
            "[15,   400] loss: 0.168\n",
            "[15,   500] loss: 0.100\n",
            "Training accuracy: 0.988285\n",
            "Testing  accuracy: 0.919214\n"
          ]
        },
        {
          "output_type": "display_data",
          "data": {
            "text/plain": [
              "<Figure size 432x288 with 1 Axes>"
            ],
            "image/png": "[encoded data removed]"
          },
          "metadata": {
            "needs_background": "light"
          }
        }
      ]
    }
  ]
}